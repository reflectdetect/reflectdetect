{
 "cells": [
  {
   "cell_type": "code",
   "outputs": [],
   "source": [
    "import os\n",
    "from pathlib import Path\n",
    "\n",
    "import cv2\n",
    "import numpy as np"
   ],
   "metadata": {
    "collapsed": false,
    "ExecuteTime": {
     "end_time": "2024-07-25T18:57:31.490492Z",
     "start_time": "2024-07-25T18:57:31.485876Z"
    }
   },
   "id": "3a8669ae525b77f9",
   "execution_count": 137
  },
  {
   "cell_type": "code",
   "outputs": [],
   "source": [
    "cwd = Path.cwd().as_posix()\n",
    "path_10m = os.path.join(cwd, 'data/apriltags_run2/din2_tags/10m')\n",
    "paths_10m = list(Path(path_10m).glob(\"*.tif\"))\n",
    "path_20m = os.path.join(cwd, 'data/apriltags_run2/din2_tags/20m')\n",
    "paths_20m = list(Path(path_20m).glob(\"*.tif\"))\n",
    "path_40m = os.path.join(cwd, 'data/apriltags_run2/din2_tags/40m')\n",
    "paths_40m = list(Path(path_40m).glob(\"*.tif\"))"
   ],
   "metadata": {
    "collapsed": false,
    "ExecuteTime": {
     "end_time": "2024-07-25T18:57:31.502771Z",
     "start_time": "2024-07-25T18:57:31.492744Z"
    }
   },
   "id": "1c6f8825362cea96",
   "execution_count": 138
  },
  {
   "cell_type": "code",
   "outputs": [],
   "source": [
    "horizontal_focal_length_pixels = 1581.7867974691412\n",
    "horizontal_focal_center_pixels = 678.6724626822399\n",
    "vertical_focal_length_pixels = 1581.7867974691412\n",
    "vertical_focal_center_pixels = 529.4318832108801\n",
    "tag_size = 0.38"
   ],
   "metadata": {
    "collapsed": false,
    "ExecuteTime": {
     "end_time": "2024-07-25T19:01:11.744724Z",
     "start_time": "2024-07-25T19:01:11.740204Z"
    }
   },
   "id": "bdb5ff5f4beadb4e",
   "execution_count": 154
  },
  {
   "cell_type": "code",
   "outputs": [],
   "source": [
    "from typing import List\n",
    "from robotpy_apriltag import AprilTagPoseEstimator, AprilTagDetector\n",
    "\n",
    "pose_estimator = AprilTagPoseEstimator(\n",
    "    AprilTagPoseEstimator.Config(tag_size, horizontal_focal_length_pixels, vertical_focal_length_pixels,\n",
    "                                 horizontal_focal_center_pixels, vertical_focal_center_pixels))\n",
    "\n",
    "\n",
    "def verify_detections(tag) -> bool:\n",
    "    valid_ids = [4]\n",
    "    return tag.getId() in valid_ids\n",
    "\n",
    "\n",
    "families = [\n",
    "    \"tagCircle21h7\"\n",
    "]\n",
    "detectors: List[AprilTagDetector] = []\n",
    "for family in families:\n",
    "    d = AprilTagDetector()\n",
    "    d.addFamily(family)\n",
    "    config = AprilTagDetector.Config()\n",
    "    config.quadDecimate = 1.0\n",
    "    config.numThreads = 4\n",
    "    config.refineEdges = 1.0\n",
    "    d.setConfig(config)\n",
    "    detectors.append(d)\n",
    "\n",
    "\n",
    "def post_estimate_tags(path):\n",
    "    img = cv2.imread(path, cv2.IMREAD_GRAYSCALE)\n",
    "    tags = [detector.detect(img) for detector in detectors]\n",
    "    tags = [item for row in tags for item in row if verify_detections(item)]\n",
    "    return [pose_estimator.estimate(tag).z for tag in tags]"
   ],
   "metadata": {
    "collapsed": false,
    "ExecuteTime": {
     "end_time": "2024-07-25T19:01:12.620395Z",
     "start_time": "2024-07-25T19:01:12.611688Z"
    }
   },
   "id": "2f5b12cc7a1bc6b",
   "execution_count": 155
  },
  {
   "cell_type": "code",
   "outputs": [],
   "source": [
    "altitudes_10m = [post_estimate_tags(path.as_posix()) for path in paths_10m]\n",
    "altitudes_20m = [post_estimate_tags(path.as_posix()) for path in paths_20m]\n",
    "altitudes_40m = [post_estimate_tags(path.as_posix()) for path in paths_40m]"
   ],
   "metadata": {
    "collapsed": false,
    "ExecuteTime": {
     "end_time": "2024-07-25T19:01:40.059003Z",
     "start_time": "2024-07-25T19:01:13.162372Z"
    }
   },
   "id": "d51be38d3b45d927",
   "execution_count": 156
  },
  {
   "cell_type": "code",
   "outputs": [],
   "source": [
    "altitudes_10m = [[int(alt) for alt in alts] for alts in altitudes_10m]\n",
    "altitudes_20m = [[int(alt) for alt in alts] for alts in altitudes_20m]\n",
    "altitudes_40m = [[int(alt) for alt in alts] for alts in altitudes_40m]"
   ],
   "metadata": {
    "collapsed": false,
    "ExecuteTime": {
     "end_time": "2024-07-25T19:01:40.063753Z",
     "start_time": "2024-07-25T19:01:40.060012Z"
    }
   },
   "id": "f1587bb6420b28e4",
   "execution_count": 157
  },
  {
   "cell_type": "code",
   "outputs": [],
   "source": [
    "altitudes_10m_flat = [item for row in altitudes_10m for item in row]\n",
    "altitudes_20m_flat = [item for row in altitudes_20m for item in row]\n",
    "altitudes_40m_flat = [item for row in altitudes_40m for item in row]"
   ],
   "metadata": {
    "collapsed": false,
    "ExecuteTime": {
     "end_time": "2024-07-25T19:01:40.069088Z",
     "start_time": "2024-07-25T19:01:40.064761Z"
    }
   },
   "id": "e89a3e4bef390869",
   "execution_count": 158
  },
  {
   "cell_type": "code",
   "outputs": [
    {
     "data": {
      "text/plain": "[9,\n 13,\n 15,\n 16,\n 18,\n 19,\n 21,\n 23,\n 24,\n 24,\n 24,\n 25,\n 25,\n 25,\n 25,\n 25,\n 25,\n 25,\n 25,\n 25,\n 25,\n 25,\n 25,\n 29,\n 29,\n 29,\n 34,\n 34,\n 35,\n 35,\n 35,\n 35,\n 36,\n 39,\n 40,\n 40,\n 44,\n 44,\n 44,\n 45,\n 45,\n 46,\n 47,\n 48,\n 48,\n 48,\n 48,\n 48,\n 48,\n 48,\n 48,\n 48,\n 48,\n 48,\n 48,\n 48,\n 48,\n 48,\n 48,\n 48,\n 48,\n 48,\n 48,\n 49,\n 49,\n 49,\n 49,\n 49,\n 49]"
     },
     "execution_count": 159,
     "metadata": {},
     "output_type": "execute_result"
    }
   ],
   "source": [
    "altitudes_40m_flat.sort()\n",
    "altitudes_40m_flat"
   ],
   "metadata": {
    "collapsed": false,
    "ExecuteTime": {
     "end_time": "2024-07-25T19:01:40.075421Z",
     "start_time": "2024-07-25T19:01:40.070096Z"
    }
   },
   "id": "3ab9733b75d1c088",
   "execution_count": 159
  },
  {
   "cell_type": "code",
   "outputs": [
    {
     "name": "stdout",
     "output_type": "stream",
     "text": [
      "Mean:\n",
      "10m 10.618421052631579\n",
      "20m 19.815217391304348\n",
      "40m 36.594202898550726\n",
      "Median:\n",
      "10m 11.0\n",
      "20m 21.0\n",
      "40m 40.0\n"
     ]
    }
   ],
   "source": [
    "print(\"Mean:\")\n",
    "print(\"10m\",np.mean(altitudes_10m_flat))\n",
    "print(\"20m\",np.mean(altitudes_20m_flat))\n",
    "print(\"40m\",np.mean(altitudes_40m_flat))\n",
    "print(\"Median:\")\n",
    "print(\"10m\",np.median(altitudes_10m_flat))\n",
    "print(\"20m\",np.median(altitudes_20m_flat))\n",
    "print(\"40m\",np.median(altitudes_40m_flat))\n"
   ],
   "metadata": {
    "collapsed": false,
    "ExecuteTime": {
     "end_time": "2024-07-25T19:01:40.080696Z",
     "start_time": "2024-07-25T19:01:40.076437Z"
    }
   },
   "id": "e4cc7cda96d6d2ad",
   "execution_count": 160
  }
 ],
 "metadata": {
  "kernelspec": {
   "display_name": "Python 3",
   "language": "python",
   "name": "python3"
  },
  "language_info": {
   "codemirror_mode": {
    "name": "ipython",
    "version": 2
   },
   "file_extension": ".py",
   "mimetype": "text/x-python",
   "name": "python",
   "nbconvert_exporter": "python",
   "pygments_lexer": "ipython2",
   "version": "2.7.6"
  }
 },
 "nbformat": 4,
 "nbformat_minor": 5
}
