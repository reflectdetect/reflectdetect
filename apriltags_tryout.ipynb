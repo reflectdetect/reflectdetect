{
 "cells": [
  {
   "cell_type": "code",
   "execution_count": 1,
   "id": "initial_id",
   "metadata": {
    "collapsed": true,
    "ExecuteTime": {
     "end_time": "2024-08-09T09:51:53.192005Z",
     "start_time": "2024-08-09T09:51:52.054700Z"
    }
   },
   "outputs": [],
   "source": [
    "from collections import OrderedDict\n",
    "from typing import List\n",
    "\n",
    "import cv2\n",
    "import matplotlib.pyplot as plt\n",
    "import numpy as np\n",
    "from numpy.linalg import norm\n",
    "from robotpy_apriltag import AprilTagDetector, AprilTagPoseEstimator\n",
    "from scipy.spatial.transform import Rotation\n"
   ]
  },
  {
   "cell_type": "code",
   "outputs": [],
   "source": [
    "import matplotlib\n",
    "\n",
    "matplotlib.use('TkAgg')"
   ],
   "metadata": {
    "collapsed": false,
    "ExecuteTime": {
     "end_time": "2024-08-09T09:51:53.288038Z",
     "start_time": "2024-08-09T09:51:53.194474Z"
    }
   },
   "id": "cda1bc28d5b24dd3",
   "execution_count": 2
  },
  {
   "cell_type": "code",
   "outputs": [],
   "source": [
    "# Hyperparameters\n",
    "horizontal_focal_length_pixels = 1581.7867974691412\n",
    "horizontal_focal_center_pixels = 678.6724626822399\n",
    "vertical_focal_length_pixels = 1581.7867974691412\n",
    "vertical_focal_center_pixels = 529.4318832108801\n",
    "tag_detection_size_m = np.array([0.28, 0.36, 0.25, 0.31])\n",
    "tag_total_size_m = np.array([0.5, 0.44, 0.56, 0.56])\n",
    "panel_size_m = 1.0\n",
    "fam = [\"tagCircle21h7\", \"tag25h9\", \"tagCircle49h12\", \"tagStandard52h13\"]\n",
    "\n",
    "# ! This has to recalculated for each image, by using the camera properties and flightheight\n",
    "#panel_size_pixel = calculate_panel_size_in_pixels()\n",
    "panel_size_pixel = 180.0  #180 pixel = 100 cm for test purposes for single image 0 \n",
    "conversion_factor = panel_size_pixel / panel_size_m\n",
    "\n",
    "# Conversions from the detection area width to the total tag width\n",
    "tag_detection_to_total_size = tag_total_size_m / tag_detection_size_m\n",
    "tag_detection_to_total_width_conversions = dict(zip(fam, tag_detection_to_total_size))\n",
    "\n",
    "# Sizes of the tags converted to meters \n",
    "tag_sizes_in_m = dict(zip(fam, zip(tag_detection_size_m, tag_total_size_m)))"
   ],
   "metadata": {
    "collapsed": false,
    "ExecuteTime": {
     "end_time": "2024-08-09T09:51:53.296892Z",
     "start_time": "2024-08-09T09:51:53.290272Z"
    }
   },
   "id": "ec5bc762dff285c5",
   "execution_count": 3
  },
  {
   "cell_type": "markdown",
   "source": [
    "## We propose two methods for using apriltags to mark the panel edges:\n",
    "# ST: Single Tag, uses a single tag for each panel by placing it at the midpoint of an edge of the panel\n",
    "# CT: Corner Tags, uses multiple tags to mark the panel corners"
   ],
   "metadata": {
    "collapsed": false
   },
   "id": "b60be8f78e6d664e"
  },
  {
   "cell_type": "code",
   "outputs": [],
   "source": [
    "# There are either a tag at each corner of a panel\n",
    "# or a single tag at the midpoint of an edge of each panel\n",
    "paths_CT = [\n",
    "    \".\\\\data\\\\apriltags_test\\\\best_case.png\",\n",
    "    \".\\\\data\\\\apriltags_test\\\\higher.png\",\n",
    "    \".\\\\data\\\\apriltags_test\\\\highest.tif\",\n",
    "]\n",
    "paths_ST = [\n",
    "    \"data/apriltags_run2/0001SET/000/IMG_0031_2.tif\",\n",
    "    \"data/apriltags_run2/0001SET/000/IMG_0057_5.tif\"\n",
    "]\n",
    "images_CT = [cv2.imread(path, cv2.IMREAD_GRAYSCALE) for path in paths_CT]\n",
    "images_ST = [cv2.imread(path, cv2.IMREAD_GRAYSCALE) for path in paths_ST]"
   ],
   "metadata": {
    "collapsed": false,
    "ExecuteTime": {
     "end_time": "2024-08-09T09:51:53.373304Z",
     "start_time": "2024-08-09T09:51:53.299164Z"
    }
   },
   "id": "41dcbc4a6c6737a6",
   "execution_count": 4
  },
  {
   "cell_type": "code",
   "outputs": [],
   "source": [
    "families = [\n",
    "    #\"tag16h5\",\n",
    "    \"tag25h9\",\n",
    "    #\"tagStandard41h12\",\n",
    "    \"tagStandard52h13\",\n",
    "    \"tagCircle49h12\",\n",
    "    \"tagCircle21h7\",\n",
    "]\n",
    "detectors: List[AprilTagDetector] = []\n",
    "for family in families:\n",
    "    d = AprilTagDetector()\n",
    "    d.addFamily(family)\n",
    "    config = AprilTagDetector.Config()\n",
    "    config.quadDecimate = 1.0\n",
    "    config.numThreads = 4\n",
    "    config.refineEdges = 1.0\n",
    "    d.setConfig(config)\n",
    "    detectors.append(d)\n",
    "\n",
    "cmap = plt.get_cmap('viridis')\n",
    "colors = cmap(np.linspace(0, 1, len(detectors)))"
   ],
   "metadata": {
    "collapsed": false,
    "ExecuteTime": {
     "end_time": "2024-08-09T09:52:02.137148Z",
     "start_time": "2024-08-09T09:51:53.375519Z"
    }
   },
   "id": "a3f69254a327a163",
   "execution_count": 5
  },
  {
   "cell_type": "code",
   "outputs": [],
   "source": [
    "def verify_detections(tag, valid_ids=None) -> bool:\n",
    "    if valid_ids is None:\n",
    "        valid_ids = [0, 4, 9]\n",
    "    return tag.getId() in valid_ids"
   ],
   "metadata": {
    "collapsed": false,
    "ExecuteTime": {
     "end_time": "2024-08-09T09:52:02.142289Z",
     "start_time": "2024-08-09T09:52:02.138364Z"
    }
   },
   "id": "20197b648e0d981d",
   "execution_count": 6
  },
  {
   "cell_type": "code",
   "outputs": [],
   "source": [
    "def show_tags(img, show_id=False):\n",
    "    plt.imshow(img, cmap=\"gray\")\n",
    "    plt.axis(\"off\")\n",
    "    for tags, color in zip(detect_tags(img), colors):\n",
    "        for tag in tags:\n",
    "            corners = list(tag.getCorners(tuple([0.0] * 8)))\n",
    "            x, y = corners[::2], corners[1::2]\n",
    "            # Append the first point to the end to close the rectangle/polygon\n",
    "            x = list(x) + [x[0]]\n",
    "            y = list(y) + [y[0]]\n",
    "            plt.plot(x, y)\n",
    "            plt.scatter(tag.getCenter().x, tag.getCenter().y, marker=\"o\", color=color, s=20, label=tag.getFamily())\n",
    "            if show_id:\n",
    "                plt.text(tag.getCenter().x + 50, tag.getCenter().y - 50, tag.getId(), color=\"black\", ha=\"center\",\n",
    "                         va=\"center\",\n",
    "                         bbox=dict(boxstyle=\"round\",\n",
    "                                   ec=(1., 0.5, 0.5),\n",
    "                                   fc=(1., 0.8, 0.8),\n",
    "                                   ))\n",
    "    handles, labels = plt.gca().get_legend_handles_labels()\n",
    "    by_label = OrderedDict(zip(labels, handles))\n",
    "    plt.legend(by_label.values(), by_label.keys())\n",
    "    plt.show()"
   ],
   "metadata": {
    "collapsed": false,
    "ExecuteTime": {
     "end_time": "2024-08-09T09:52:02.149607Z",
     "start_time": "2024-08-09T09:52:02.143419Z"
    }
   },
   "id": "f60f71066b0b9df7",
   "execution_count": 7
  },
  {
   "cell_type": "code",
   "outputs": [],
   "source": [
    "def detect_tags(img, valid_ids=None):\n",
    "    tags_by_detector = [detector.detect(img) for detector in detectors]\n",
    "    return [[tag for tag in tags if verify_detections(tag, valid_ids)] for tags in tags_by_detector]"
   ],
   "metadata": {
    "collapsed": false,
    "ExecuteTime": {
     "end_time": "2024-08-09T09:52:02.154839Z",
     "start_time": "2024-08-09T09:52:02.150799Z"
    }
   },
   "id": "18220daebb686255",
   "execution_count": 8
  },
  {
   "cell_type": "code",
   "outputs": [],
   "source": [
    "show_tags(images_ST[1], False)"
   ],
   "metadata": {
    "collapsed": false,
    "ExecuteTime": {
     "end_time": "2024-08-09T09:52:04.605739Z",
     "start_time": "2024-08-09T09:52:02.155968Z"
    }
   },
   "id": "a7be670a71130e0e",
   "execution_count": 9
  },
  {
   "cell_type": "code",
   "outputs": [],
   "source": [
    "def get_panels_ST(img, valid_ids=None):\n",
    "    tags = detect_tags(img, valid_ids)\n",
    "    tags = sum(tags, [])\n",
    "    panels = []\n",
    "    for tag in tags:\n",
    "        corners = list(tag.getCorners(tuple([0.0] * 8)))\n",
    "        corners = np.array(list((zip(corners[::2], corners[1::2]))))\n",
    "\n",
    "        towards_panel = corners[2] - corners[1]\n",
    "        tag_detection_size_pixel = np.linalg.norm(towards_panel)\n",
    "        tag_size = tag_detection_size_pixel * tag_detection_to_total_width_conversions[tag.getFamily()]\n",
    "        towards_panel = towards_panel / np.linalg.norm(towards_panel)\n",
    "        center = np.array([tag.getCenter().x, tag.getCenter().y])\n",
    "        tag_panel_border = center + towards_panel * (tag_size / 2)\n",
    "        panel_length = towards_panel * panel_size_pixel\n",
    "        half_panel_length = panel_length / 2\n",
    "        panel_midpoint_to_edge = [-half_panel_length[1], half_panel_length[0]]\n",
    "        edgeA = tag_panel_border + panel_midpoint_to_edge\n",
    "        edgeB = tag_panel_border - panel_midpoint_to_edge\n",
    "        edgeC = tag_panel_border + panel_length - panel_midpoint_to_edge\n",
    "        edgeD = tag_panel_border + panel_length + panel_midpoint_to_edge\n",
    "        panels.append((tag, (edgeA, edgeB, edgeC, edgeD)))\n",
    "    return panels"
   ],
   "metadata": {
    "collapsed": false,
    "ExecuteTime": {
     "end_time": "2024-08-09T09:52:04.613436Z",
     "start_time": "2024-08-09T09:52:04.606949Z"
    }
   },
   "id": "2a30108f3bd0b7aa",
   "execution_count": 10
  },
  {
   "cell_type": "code",
   "outputs": [],
   "source": [
    "def show_panels_ST(img, valid_ids):\n",
    "    fig_2d = plt.figure()\n",
    "    ax = fig_2d.subplots(1, 1)\n",
    "    ax.imshow(img, cmap=\"grey\")\n",
    "    panels = get_panels_ST(img, valid_ids)\n",
    "    for (tag, corners), color in zip(panels, colors):\n",
    "        ax.scatter(tag.getCenter().x, tag.getCenter().y, color=color)\n",
    "        x, y = zip(*corners)\n",
    "\n",
    "        # Append the first point to the end to close the rectangle/polygon\n",
    "        # Append the first point to the end to close the rectangle/polygon\n",
    "        x = list(x) + [x[0]]\n",
    "        y = list(y) + [y[0]]\n",
    "        ax.plot(x, y, color=color, linewidth=2)\n",
    "    fig_2d.show()"
   ],
   "metadata": {
    "collapsed": false,
    "ExecuteTime": {
     "end_time": "2024-08-09T09:52:04.620954Z",
     "start_time": "2024-08-09T09:52:04.615622Z"
    }
   },
   "id": "4b72de39b74c1019",
   "execution_count": 11
  },
  {
   "cell_type": "code",
   "outputs": [],
   "source": [
    "show_panels_ST(images_ST[1], [4])"
   ],
   "metadata": {
    "collapsed": false,
    "ExecuteTime": {
     "end_time": "2024-08-09T09:52:05.003073Z",
     "start_time": "2024-08-09T09:52:04.622039Z"
    }
   },
   "id": "c83af8daad3145b7",
   "execution_count": 12
  },
  {
   "cell_type": "markdown",
   "source": [
    "## 3D Pose Estimation"
   ],
   "metadata": {
    "collapsed": false
   },
   "id": "3e955cd200573b15"
  },
  {
   "cell_type": "code",
   "outputs": [],
   "source": [
    "# Helper functions\n",
    "\n",
    "def rotate_vector(vector, axis, degrees):\n",
    "    theta = degrees * (np.pi / 180.0)\n",
    "    axis = axis / norm(axis)  # normalize the rotation vector first\n",
    "    rot = Rotation.from_rotvec(theta * axis)\n",
    "    new_v = rot.apply(vector)\n",
    "    return new_v\n",
    "\n",
    "\n",
    "def project_to_image_plane(X, Y, Z,\n",
    "                           horizontal_focal_length_pixels, vertical_focal_length_pixels,\n",
    "                           horizontal_focal_center_pixels, vertical_focal_center_pixels):\n",
    "    \"\"\"\n",
    "    Projects a 3D world point (X, Y, Z) into 2D image plane coordinates (u, v).\n",
    "\n",
    "    Parameters:\n",
    "    X, Y, Z: float\n",
    "        3D coordinates of the point in world space.\n",
    "    horizontal_focal_length_pixels: float\n",
    "        Focal length of the camera in the horizontal direction (in pixels).\n",
    "    vertical_focal_length_pixels: float\n",
    "        Focal length of the camera in the vertical direction (in pixels).\n",
    "    horizontal_focal_center_pixels: float\n",
    "        The x-coordinate of the principal point (optical center) in the image.\n",
    "    vertical_focal_center_pixels: float\n",
    "        The y-coordinate of the principal point (optical center) in the image.\n",
    "\n",
    "    Returns:\n",
    "    u, v: float\n",
    "        2D pixel coordinates in the image plane.\n",
    "    \"\"\"\n",
    "    # Project onto the 2D image plane\n",
    "    u = (X * horizontal_focal_length_pixels) / Z + horizontal_focal_center_pixels\n",
    "    v = (Y * vertical_focal_length_pixels) / Z + vertical_focal_center_pixels\n",
    "\n",
    "    return u, v"
   ],
   "metadata": {
    "collapsed": false,
    "ExecuteTime": {
     "end_time": "2024-08-09T09:52:05.010587Z",
     "start_time": "2024-08-09T09:52:05.004310Z"
    }
   },
   "id": "8dcf4b7232aa562",
   "execution_count": 13
  },
  {
   "cell_type": "code",
   "outputs": [],
   "source": [
    "def get_panels_ST_3D(img, valid_ids):\n",
    "    panels = []\n",
    "    tags = [detector.detect(img) for detector in detectors]\n",
    "    #Flatten\n",
    "    tags = sum(tags, [])\n",
    "\n",
    "    def estimate(tag):\n",
    "        width = tag_sizes_in_m[tag.getFamily()]\n",
    "        pose_estimator = AprilTagPoseEstimator(\n",
    "            AprilTagPoseEstimator.Config(width[0], horizontal_focal_length_pixels,\n",
    "                                         vertical_focal_length_pixels,\n",
    "                                         horizontal_focal_center_pixels, vertical_focal_center_pixels))\n",
    "        return pose_estimator.estimate(tag)\n",
    "\n",
    "    estimates = [estimate(tag) for tag in tags if verify_detections(tag, valid_ids)]\n",
    "    for tag, estimate in zip(tags, estimates):\n",
    "        tag_size = tag_sizes_in_m[tag.getFamily()]\n",
    "        # The estimated rotation is a vector that points up and away form the panel (Z axis is up towards the camera)\n",
    "        tag_orientation = [estimate.rotation().x, estimate.rotation().y, estimate.rotation().z]\n",
    "        tag_center = [estimate.translation().x, estimate.translation().y, estimate.translation().z]\n",
    "        # Normalize then and scale the rotation vector to the tag_size\n",
    "        tag_orientation = tag_orientation / np.linalg.norm(tag_orientation)\n",
    "        tag_orientation = tag_orientation * (tag_size[1] / 2)\n",
    "        # The tag orientation is then rotated to face the \"up\" side of the tag when thinking in terms of a 2d paper print. (Towards the panel on the ground)\n",
    "        towards_panel_direction = rotate_vector(tag_orientation, [0, 1, 0], 90.0)\n",
    "        # Calculate location vectors that point in the direction of the panel edges\n",
    "        panel_edge_midpoint = tag_center + towards_panel_direction\n",
    "        panel_edge = (towards_panel_direction / np.linalg.norm(towards_panel_direction)) * panel_size_m\n",
    "        half_panel_edge = panel_edge / 2\n",
    "        panel_edge_midpoint_to_corner = rotate_vector(half_panel_edge, [0, 0, 1], 90.0)\n",
    "        cornerA = panel_edge_midpoint + panel_edge_midpoint_to_corner\n",
    "        cornerB = panel_edge_midpoint - panel_edge_midpoint_to_corner\n",
    "        cornerC = panel_edge_midpoint + panel_edge - panel_edge_midpoint_to_corner\n",
    "        cornerD = panel_edge_midpoint + panel_edge + panel_edge_midpoint_to_corner\n",
    "        panels.append((estimate, (cornerA, cornerB, cornerC, cornerD)))\n",
    "    return panels\n",
    "\n",
    "\n",
    "def project(corners):\n",
    "    return [project_to_image_plane(*corner,\n",
    "                                   horizontal_focal_length_pixels,\n",
    "                                   vertical_focal_length_pixels,\n",
    "                                   horizontal_focal_center_pixels,\n",
    "                                   vertical_focal_center_pixels) for corner in corners]"
   ],
   "metadata": {
    "collapsed": false,
    "ExecuteTime": {
     "end_time": "2024-08-09T09:53:53.973761Z",
     "start_time": "2024-08-09T09:53:53.964378Z"
    }
   },
   "id": "faa59671d0e181a6",
   "execution_count": 20
  },
  {
   "cell_type": "code",
   "outputs": [],
   "source": [
    "def show_panels_ST_3D_in_2D(img, valid_ids):\n",
    "    fig_2d = plt.figure()\n",
    "    ax = fig_2d.subplots(1, 1)\n",
    "    ax.imshow(img, cmap=\"grey\")\n",
    "    panels_3d = get_panels_ST_3D(img, valid_ids)\n",
    "    panels = [(project([estimate.translation()]), project(corners)) for (estimate, corners) in panels_3d]\n",
    "    for ([estimate], corners), color in zip(panels, colors):\n",
    "        ax.scatter(estimate[0], estimate[1], color=color)\n",
    "        x, y = zip(*corners)\n",
    "\n",
    "        # Append the first point to the end to close the rectangle/polygon\n",
    "        x = list(x) + [x[0]]\n",
    "        y = list(y) + [y[0]]\n",
    "        ax.plot(x, y, color=color)\n",
    "    fig_2d.show()"
   ],
   "metadata": {
    "collapsed": false,
    "ExecuteTime": {
     "end_time": "2024-08-09T09:53:54.953364Z",
     "start_time": "2024-08-09T09:53:54.945026Z"
    }
   },
   "id": "7b6a8a5fb2a09e64",
   "execution_count": 21
  },
  {
   "cell_type": "code",
   "outputs": [],
   "source": [
    "def show_panels_ST_3D_in_3D(img, valid_ids):\n",
    "    fig_3d = plt.figure()\n",
    "    ax_3d = fig_3d.add_subplot(111, projection='3d')\n",
    "    ax_3d.set_xlim(-5, 5)\n",
    "    ax_3d.set_ylim(-5, 5)\n",
    "    ax_3d.set_zlim(25)\n",
    "    color = \"green\"\n",
    "\n",
    "    def print_location(point):\n",
    "        ax_3d.scatter(*point, marker=\"o\", color=color, s=2)\n",
    "\n",
    "    panels_3d = get_panels_ST_3D(img, valid_ids)\n",
    "    for (estimate, corners), color in zip(panels_3d, colors):\n",
    "        ax_3d.quiver(*estimate.translation().toVector(),\n",
    "                     *rotate_vector([estimate.rotation().x, estimate.rotation().y, estimate.rotation().z], [0, 1, 0],\n",
    "                                    90.0),\n",
    "                     color=color)\n",
    "        print_location(estimate.translation())\n",
    "        edgeA, edgeB, edgeC, edgeD = corners\n",
    "        print_location(edgeA)\n",
    "        print_location(edgeB)\n",
    "        print_location(edgeC)\n",
    "        print_location(edgeD)\n",
    "        ax_3d.quiver(*edgeA, *(edgeB - edgeA), color=color)\n",
    "        ax_3d.quiver(*edgeB, *(edgeC - edgeB), color=color)\n",
    "        ax_3d.quiver(*edgeC, *(edgeD - edgeC), color=color)\n",
    "        ax_3d.quiver(*edgeD, *(edgeA - edgeD), color=color)\n",
    "    fig_3d.show()\n"
   ],
   "metadata": {
    "collapsed": false,
    "ExecuteTime": {
     "end_time": "2024-08-09T09:53:55.894386Z",
     "start_time": "2024-08-09T09:53:55.885929Z"
    }
   },
   "id": "fb6a2feccac488df",
   "execution_count": 22
  },
  {
   "cell_type": "code",
   "outputs": [],
   "source": [
    "show_panels_ST_3D_in_2D(images_ST[0], [4])\n",
    "show_panels_ST_3D_in_3D(images_ST[0], [4])"
   ],
   "metadata": {
    "collapsed": false,
    "ExecuteTime": {
     "end_time": "2024-08-09T09:53:57.767712Z",
     "start_time": "2024-08-09T09:53:56.360714Z"
    }
   },
   "id": "9c1da1b6accdafce",
   "execution_count": 23
  }
 ],
 "metadata": {
  "kernelspec": {
   "display_name": "Python 3",
   "language": "python",
   "name": "python3"
  },
  "language_info": {
   "codemirror_mode": {
    "name": "ipython",
    "version": 2
   },
   "file_extension": ".py",
   "mimetype": "text/x-python",
   "name": "python",
   "nbconvert_exporter": "python",
   "pygments_lexer": "ipython2",
   "version": "2.7.6"
  }
 },
 "nbformat": 4,
 "nbformat_minor": 5
}
