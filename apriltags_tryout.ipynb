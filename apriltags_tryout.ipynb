{
 "cells": [
  {
   "cell_type": "code",
   "execution_count": 37,
   "id": "initial_id",
   "metadata": {
    "collapsed": true,
    "ExecuteTime": {
     "end_time": "2024-08-09T10:11:17.888443Z",
     "start_time": "2024-08-09T10:11:17.868776Z"
    }
   },
   "outputs": [],
   "source": [
    "from collections import OrderedDict\n",
    "from typing import List\n",
    "\n",
    "import cv2\n",
    "import matplotlib.pyplot as plt\n",
    "import numpy as np\n",
    "from exiftool import ExifToolHelper # run setupExifTool.vbs\n",
    "from numpy.linalg import norm\n",
    "from robotpy_apriltag import AprilTagDetector, AprilTagPoseEstimator\n",
    "from scipy.spatial.transform import Rotation\n"
   ]
  },
  {
   "cell_type": "code",
   "outputs": [],
   "source": [
    "import matplotlib\n",
    "\n",
    "matplotlib.use('TkAgg')"
   ],
   "metadata": {
    "collapsed": false,
    "ExecuteTime": {
     "end_time": "2024-08-09T10:08:03.211505Z",
     "start_time": "2024-08-09T10:08:03.206986Z"
    }
   },
   "id": "cda1bc28d5b24dd3",
   "execution_count": 25
  },
  {
   "cell_type": "code",
   "outputs": [],
   "source": [
    "# Hyperparameters\n",
    "horizontal_focal_length_pixels = 1581.7867974691412\n",
    "horizontal_focal_center_pixels = 678.6724626822399\n",
    "vertical_focal_length_pixels = 1581.7867974691412\n",
    "vertical_focal_center_pixels = 529.4318832108801\n",
    "tag_detection_size_m = np.array([0.28, 0.36, 0.25, 0.31])\n",
    "tag_total_size_m = np.array([0.5, 0.44, 0.56, 0.56])\n",
    "panel_size_m = 1.0\n",
    "fam = [\"tagCircle21h7\", \"tag25h9\", \"tagCircle49h12\", \"tagStandard52h13\"]\n",
    "\n",
    "# ! This has to recalculated for each image, by using the camera properties and flightheight\n",
    "#panel_size_pixel = calculate_panel_size_in_pixels()\n",
    "panel_size_pixel = 180.0  #180 pixel = 100 cm for test purposes for single image 0 \n",
    "conversion_factor = panel_size_pixel / panel_size_m\n",
    "\n",
    "# Conversions from the detection area width to the total tag width\n",
    "tag_detection_to_total_size = tag_total_size_m / tag_detection_size_m\n",
    "tag_detection_to_total_width_conversions = dict(zip(fam, tag_detection_to_total_size))\n",
    "\n",
    "# Sizes of the tags converted to meters \n",
    "tag_sizes_in_m = dict(zip(fam, zip(tag_detection_size_m, tag_total_size_m)))"
   ],
   "metadata": {
    "collapsed": false,
    "ExecuteTime": {
     "end_time": "2024-08-09T10:08:03.651706Z",
     "start_time": "2024-08-09T10:08:03.644510Z"
    }
   },
   "id": "ec5bc762dff285c5",
   "execution_count": 26
  },
  {
   "cell_type": "markdown",
   "source": [
    "# We propose two methods for using apriltags to mark the panel edges:\n",
    "### ST: Single Tag, uses a single tag for each panel by placing it at the midpoint of an edge of the panel\n",
    "### CT: Corner Tags, uses multiple tags to mark the panel corners"
   ],
   "metadata": {
    "collapsed": false
   },
   "id": "b60be8f78e6d664e"
  },
  {
   "cell_type": "code",
   "outputs": [],
   "source": [
    "# There are either a tag at each corner of a panel\n",
    "# or a single tag at the midpoint of an edge of each panel\n",
    "paths_CT = [\n",
    "    \".\\\\data\\\\apriltags_test\\\\best_case.png\",\n",
    "    \".\\\\data\\\\apriltags_test\\\\higher.png\",\n",
    "    \".\\\\data\\\\apriltags_test\\\\highest.tif\",\n",
    "]\n",
    "paths_ST = [\n",
    "    \"data/apriltags_run2/0001SET/000/IMG_0031_2.tif\",\n",
    "    \"data/apriltags_run2/0001SET/000/IMG_0057_5.tif\"\n",
    "]\n",
    "images_CT = [cv2.imread(path, cv2.IMREAD_GRAYSCALE) for path in paths_CT]\n",
    "images_ST = [cv2.imread(path, cv2.IMREAD_GRAYSCALE) for path in paths_ST]"
   ],
   "metadata": {
    "collapsed": false,
    "ExecuteTime": {
     "end_time": "2024-08-09T10:08:22.790634Z",
     "start_time": "2024-08-09T10:08:22.718523Z"
    }
   },
   "id": "41dcbc4a6c6737a6",
   "execution_count": 27
  },
  {
   "cell_type": "code",
   "outputs": [],
   "source": [
    "families = [\n",
    "    #\"tag16h5\",\n",
    "    \"tag25h9\",\n",
    "    #\"tagStandard41h12\",\n",
    "    \"tagStandard52h13\",\n",
    "    \"tagCircle49h12\",\n",
    "    \"tagCircle21h7\",\n",
    "]\n",
    "detectors: List[AprilTagDetector] = []\n",
    "for family in families:\n",
    "    d = AprilTagDetector()\n",
    "    d.addFamily(family)\n",
    "    config = AprilTagDetector.Config()\n",
    "    config.quadDecimate = 1.0\n",
    "    config.numThreads = 4\n",
    "    config.refineEdges = 1.0\n",
    "    d.setConfig(config)\n",
    "    detectors.append(d)\n",
    "\n",
    "cmap = plt.get_cmap('viridis')\n",
    "colors = cmap(np.linspace(0, 1, len(detectors)))"
   ],
   "metadata": {
    "collapsed": false,
    "ExecuteTime": {
     "end_time": "2024-08-09T10:08:33.789427Z",
     "start_time": "2024-08-09T10:08:23.382669Z"
    }
   },
   "id": "a3f69254a327a163",
   "execution_count": 28
  },
  {
   "cell_type": "code",
   "outputs": [],
   "source": [
    "def verify_detections(tag, valid_ids=None) -> bool:\n",
    "    if valid_ids is None:\n",
    "        valid_ids = [0, 4, 9]\n",
    "    return tag.getId() in valid_ids"
   ],
   "metadata": {
    "collapsed": false,
    "ExecuteTime": {
     "end_time": "2024-08-09T10:08:33.815980Z",
     "start_time": "2024-08-09T10:08:33.810906Z"
    }
   },
   "id": "20197b648e0d981d",
   "execution_count": 29
  },
  {
   "cell_type": "code",
   "outputs": [],
   "source": [
    "def show_tags(img, show_id=False):\n",
    "    plt.imshow(img, cmap=\"gray\")\n",
    "    plt.axis(\"off\")\n",
    "    for tags, color in zip(detect_tags(img), colors):\n",
    "        for tag in tags:\n",
    "            corners = list(tag.getCorners(tuple([0.0] * 8)))\n",
    "            x, y = corners[::2], corners[1::2]\n",
    "            # Append the first point to the end to close the rectangle/polygon\n",
    "            x = list(x) + [x[0]]\n",
    "            y = list(y) + [y[0]]\n",
    "            plt.plot(x, y)\n",
    "            plt.scatter(tag.getCenter().x, tag.getCenter().y, marker=\"o\", color=color, s=20, label=tag.getFamily())\n",
    "            if show_id:\n",
    "                plt.text(tag.getCenter().x + 50, tag.getCenter().y - 50, tag.getId(), color=\"black\", ha=\"center\",\n",
    "                         va=\"center\",\n",
    "                         bbox=dict(boxstyle=\"round\",\n",
    "                                   ec=(1., 0.5, 0.5),\n",
    "                                   fc=(1., 0.8, 0.8),\n",
    "                                   ))\n",
    "    handles, labels = plt.gca().get_legend_handles_labels()\n",
    "    by_label = OrderedDict(zip(labels, handles))\n",
    "    plt.legend(by_label.values(), by_label.keys())\n",
    "    plt.show()"
   ],
   "metadata": {
    "collapsed": false,
    "ExecuteTime": {
     "end_time": "2024-08-09T10:08:33.848095Z",
     "start_time": "2024-08-09T10:08:33.840922Z"
    }
   },
   "id": "f60f71066b0b9df7",
   "execution_count": 30
  },
  {
   "cell_type": "code",
   "outputs": [],
   "source": [
    "def detect_tags(img, valid_ids=None):\n",
    "    tags_by_detector = [detector.detect(img) for detector in detectors]\n",
    "    return [[tag for tag in tags if verify_detections(tag, valid_ids)] for tags in tags_by_detector]"
   ],
   "metadata": {
    "collapsed": false,
    "ExecuteTime": {
     "end_time": "2024-08-09T10:08:33.876089Z",
     "start_time": "2024-08-09T10:08:33.872122Z"
    }
   },
   "id": "18220daebb686255",
   "execution_count": 31
  },
  {
   "cell_type": "code",
   "outputs": [],
   "source": [
    "show_tags(images_ST[1], False)"
   ],
   "metadata": {
    "collapsed": false,
    "ExecuteTime": {
     "end_time": "2024-08-09T10:08:37.645257Z",
     "start_time": "2024-08-09T10:08:33.899720Z"
    }
   },
   "id": "a7be670a71130e0e",
   "execution_count": 32
  },
  {
   "cell_type": "code",
   "outputs": [],
   "source": [
    "def get_panels_ST(img, valid_ids=None):\n",
    "    tags = detect_tags(img, valid_ids)\n",
    "    tags = sum(tags, [])\n",
    "    panels = []\n",
    "    for tag in tags:\n",
    "        corners = list(tag.getCorners(tuple([0.0] * 8)))\n",
    "        corners = np.array(list((zip(corners[::2], corners[1::2]))))\n",
    "\n",
    "        towards_panel = corners[2] - corners[1]\n",
    "        tag_detection_size_pixel = np.linalg.norm(towards_panel)\n",
    "        tag_size = tag_detection_size_pixel * tag_detection_to_total_width_conversions[tag.getFamily()]\n",
    "        towards_panel = towards_panel / np.linalg.norm(towards_panel)\n",
    "        center = np.array([tag.getCenter().x, tag.getCenter().y])\n",
    "        tag_panel_border = center + towards_panel * (tag_size / 2)\n",
    "        panel_length = towards_panel * panel_size_pixel\n",
    "        half_panel_length = panel_length / 2\n",
    "        panel_midpoint_to_edge = [-half_panel_length[1], half_panel_length[0]]\n",
    "        edgeA = tag_panel_border + panel_midpoint_to_edge\n",
    "        edgeB = tag_panel_border - panel_midpoint_to_edge\n",
    "        edgeC = tag_panel_border + panel_length - panel_midpoint_to_edge\n",
    "        edgeD = tag_panel_border + panel_length + panel_midpoint_to_edge\n",
    "        panels.append((tag, (edgeA, edgeB, edgeC, edgeD)))\n",
    "    return panels"
   ],
   "metadata": {
    "collapsed": false,
    "ExecuteTime": {
     "end_time": "2024-08-09T10:08:37.667354Z",
     "start_time": "2024-08-09T10:08:37.659661Z"
    }
   },
   "id": "2a30108f3bd0b7aa",
   "execution_count": 33
  },
  {
   "cell_type": "code",
   "outputs": [],
   "source": [
    "def show_panels_ST(img, valid_ids):\n",
    "    fig_2d = plt.figure()\n",
    "    ax = fig_2d.subplots(1, 1)\n",
    "    ax.imshow(img, cmap=\"grey\")\n",
    "    panels = get_panels_ST(img, valid_ids)\n",
    "    for (tag, corners), color in zip(panels, colors):\n",
    "        ax.scatter(tag.getCenter().x, tag.getCenter().y, color=color)\n",
    "        x, y = zip(*corners)\n",
    "\n",
    "        # Append the first point to the end to close the rectangle/polygon\n",
    "        # Append the first point to the end to close the rectangle/polygon\n",
    "        x = list(x) + [x[0]]\n",
    "        y = list(y) + [y[0]]\n",
    "        ax.plot(x, y, color=color, linewidth=2)\n",
    "    fig_2d.show()"
   ],
   "metadata": {
    "collapsed": false,
    "ExecuteTime": {
     "end_time": "2024-08-09T10:08:37.686465Z",
     "start_time": "2024-08-09T10:08:37.680580Z"
    }
   },
   "id": "4b72de39b74c1019",
   "execution_count": 34
  },
  {
   "cell_type": "code",
   "outputs": [],
   "source": [
    "show_panels_ST(images_ST[1], [4])"
   ],
   "metadata": {
    "collapsed": false,
    "ExecuteTime": {
     "end_time": "2024-08-09T10:08:46.483656Z",
     "start_time": "2024-08-09T10:08:45.685577Z"
    }
   },
   "id": "c83af8daad3145b7",
   "execution_count": 35
  },
  {
   "cell_type": "markdown",
   "source": [
    "## 3D Pose Estimation"
   ],
   "metadata": {
    "collapsed": false
   },
   "id": "3e955cd200573b15"
  },
  {
   "cell_type": "code",
   "outputs": [
    {
     "ename": "FileNotFoundError",
     "evalue": "\"exiftool.exe\" is not found, on path or as absolute path",
     "output_type": "error",
     "traceback": [
      "\u001B[1;31m---------------------------------------------------------------------------\u001B[0m",
      "\u001B[1;31mFileNotFoundError\u001B[0m                         Traceback (most recent call last)",
      "Cell \u001B[1;32mIn[38], line 46\u001B[0m\n\u001B[0;32m     44\u001B[0m exif_data_ST \u001B[38;5;241m=\u001B[39m []\n\u001B[0;32m     45\u001B[0m \u001B[38;5;28;01mfor\u001B[39;00m image_path \u001B[38;5;129;01min\u001B[39;00m images_ST:\n\u001B[1;32m---> 46\u001B[0m     metadata \u001B[38;5;241m=\u001B[39m \u001B[43mextract_exif_data\u001B[49m\u001B[43m(\u001B[49m\u001B[43mimage_path\u001B[49m\u001B[43m)\u001B[49m\n\u001B[0;32m     47\u001B[0m     exif_data_ST\u001B[38;5;241m.\u001B[39mappend({\n\u001B[0;32m     48\u001B[0m         \u001B[38;5;124m'\u001B[39m\u001B[38;5;124mfile_path\u001B[39m\u001B[38;5;124m'\u001B[39m: image_path,\n\u001B[0;32m     49\u001B[0m         \u001B[38;5;124m'\u001B[39m\u001B[38;5;124mgps_latitude\u001B[39m\u001B[38;5;124m'\u001B[39m: metadata\u001B[38;5;241m.\u001B[39mget(\u001B[38;5;124m'\u001B[39m\u001B[38;5;124mEXIF:GPSLatitude\u001B[39m\u001B[38;5;124m'\u001B[39m),\n\u001B[1;32m   (...)\u001B[0m\n\u001B[0;32m     54\u001B[0m         \u001B[38;5;124m'\u001B[39m\u001B[38;5;124mroll\u001B[39m\u001B[38;5;124m'\u001B[39m: \u001B[38;5;28mfloat\u001B[39m(metadata\u001B[38;5;241m.\u001B[39mget(\u001B[38;5;124m'\u001B[39m\u001B[38;5;124mXMP:Roll\u001B[39m\u001B[38;5;124m'\u001B[39m, \u001B[38;5;241m0\u001B[39m)),  \u001B[38;5;66;03m# Convert to float, default to 0 if not present\u001B[39;00m\n\u001B[0;32m     55\u001B[0m     })\n",
      "Cell \u001B[1;32mIn[38], line 40\u001B[0m, in \u001B[0;36mextract_exif_data\u001B[1;34m(image_path)\u001B[0m\n\u001B[0;32m     39\u001B[0m \u001B[38;5;28;01mdef\u001B[39;00m \u001B[38;5;21mextract_exif_data\u001B[39m(image_path):\n\u001B[1;32m---> 40\u001B[0m     \u001B[38;5;28;01mwith\u001B[39;00m \u001B[43mExifToolHelper\u001B[49m\u001B[43m(\u001B[49m\u001B[43m)\u001B[49m \u001B[38;5;28;01mas\u001B[39;00m et:\n\u001B[0;32m     41\u001B[0m         metadata \u001B[38;5;241m=\u001B[39m et\u001B[38;5;241m.\u001B[39mget_metadata(image_path)\n\u001B[0;32m     42\u001B[0m     \u001B[38;5;28;01mreturn\u001B[39;00m metadata[\u001B[38;5;241m0\u001B[39m]\n",
      "File \u001B[1;32m~\\reflectdetect\\venv\\Lib\\site-packages\\exiftool\\helper.py:100\u001B[0m, in \u001B[0;36mExifToolHelper.__init__\u001B[1;34m(self, auto_start, check_execute, check_tag_names, **kwargs)\u001B[0m\n\u001B[0;32m     92\u001B[0m \u001B[38;5;250m\u001B[39m\u001B[38;5;124;03m\"\"\"\u001B[39;00m\n\u001B[0;32m     93\u001B[0m \u001B[38;5;124;03m:param bool auto_start: Will automatically start the exiftool process on first command run, defaults to True\u001B[39;00m\n\u001B[0;32m     94\u001B[0m \u001B[38;5;124;03m:param bool check_execute: Will check the exit status (return code) of all commands.  This catches some invalid commands passed to exiftool subprocess, defaults to True.  See :py:attr:`check_execute` for more info.\u001B[39;00m\n\u001B[1;32m   (...)\u001B[0m\n\u001B[0;32m     97\u001B[0m \u001B[38;5;124;03m:param kwargs: All other parameters are passed directly to the super-class constructor: :py:meth:`exiftool.ExifTool.__init__()`\u001B[39;00m\n\u001B[0;32m     98\u001B[0m \u001B[38;5;124;03m\"\"\"\u001B[39;00m\n\u001B[0;32m     99\u001B[0m \u001B[38;5;66;03m# call parent's constructor\u001B[39;00m\n\u001B[1;32m--> 100\u001B[0m \u001B[38;5;28;43msuper\u001B[39;49m\u001B[43m(\u001B[49m\u001B[43m)\u001B[49m\u001B[38;5;241;43m.\u001B[39;49m\u001B[38;5;21;43m__init__\u001B[39;49m\u001B[43m(\u001B[49m\u001B[38;5;241;43m*\u001B[39;49m\u001B[38;5;241;43m*\u001B[39;49m\u001B[43mkwargs\u001B[49m\u001B[43m)\u001B[49m\n\u001B[0;32m    102\u001B[0m \u001B[38;5;28mself\u001B[39m\u001B[38;5;241m.\u001B[39m_auto_start: \u001B[38;5;28mbool\u001B[39m \u001B[38;5;241m=\u001B[39m auto_start\n\u001B[0;32m    103\u001B[0m \u001B[38;5;28mself\u001B[39m\u001B[38;5;241m.\u001B[39m_check_execute: \u001B[38;5;28mbool\u001B[39m \u001B[38;5;241m=\u001B[39m check_execute\n",
      "File \u001B[1;32m~\\reflectdetect\\venv\\Lib\\site-packages\\exiftool\\exiftool.py:292\u001B[0m, in \u001B[0;36mExifTool.__init__\u001B[1;34m(self, executable, common_args, win_shell, config_file, encoding, logger)\u001B[0m\n\u001B[0;32m    288\u001B[0m \u001B[38;5;28mself\u001B[39m\u001B[38;5;241m.\u001B[39mlogger \u001B[38;5;241m=\u001B[39m logger\n\u001B[0;32m    290\u001B[0m \u001B[38;5;66;03m# use the passed in parameter, or the default if not set\u001B[39;00m\n\u001B[0;32m    291\u001B[0m \u001B[38;5;66;03m# error checking is done in the property.setter\u001B[39;00m\n\u001B[1;32m--> 292\u001B[0m \u001B[38;5;28;43mself\u001B[39;49m\u001B[38;5;241;43m.\u001B[39;49m\u001B[43mexecutable\u001B[49m \u001B[38;5;241m=\u001B[39m executable \u001B[38;5;129;01mor\u001B[39;00m constants\u001B[38;5;241m.\u001B[39mDEFAULT_EXECUTABLE\n\u001B[0;32m    293\u001B[0m \u001B[38;5;28mself\u001B[39m\u001B[38;5;241m.\u001B[39mencoding \u001B[38;5;241m=\u001B[39m encoding\n\u001B[0;32m    294\u001B[0m \u001B[38;5;28mself\u001B[39m\u001B[38;5;241m.\u001B[39mcommon_args \u001B[38;5;241m=\u001B[39m common_args\n",
      "File \u001B[1;32m~\\reflectdetect\\venv\\Lib\\site-packages\\exiftool\\exiftool.py:366\u001B[0m, in \u001B[0;36mExifTool.executable\u001B[1;34m(self, new_executable)\u001B[0m\n\u001B[0;32m    363\u001B[0m \tabs_path \u001B[38;5;241m=\u001B[39m shutil\u001B[38;5;241m.\u001B[39mwhich(new_executable)\n\u001B[0;32m    365\u001B[0m \t\u001B[38;5;28;01mif\u001B[39;00m abs_path \u001B[38;5;129;01mis\u001B[39;00m \u001B[38;5;28;01mNone\u001B[39;00m:\n\u001B[1;32m--> 366\u001B[0m \t\t\u001B[38;5;28;01mraise\u001B[39;00m \u001B[38;5;167;01mFileNotFoundError\u001B[39;00m(\u001B[38;5;124mf\u001B[39m\u001B[38;5;124m'\u001B[39m\u001B[38;5;124m\"\u001B[39m\u001B[38;5;132;01m{\u001B[39;00mnew_executable\u001B[38;5;132;01m}\u001B[39;00m\u001B[38;5;124m\"\u001B[39m\u001B[38;5;124m is not found, on path or as absolute path\u001B[39m\u001B[38;5;124m'\u001B[39m)\n\u001B[0;32m    368\u001B[0m \u001B[38;5;66;03m# absolute path is returned\u001B[39;00m\n\u001B[0;32m    369\u001B[0m \u001B[38;5;28mself\u001B[39m\u001B[38;5;241m.\u001B[39m_executable \u001B[38;5;241m=\u001B[39m \u001B[38;5;28mstr\u001B[39m(abs_path)\n",
      "\u001B[1;31mFileNotFoundError\u001B[0m: \"exiftool.exe\" is not found, on path or as absolute path"
     ]
    }
   ],
   "source": [
    "# Helper functions\n",
    "\n",
    "def rotate_vector(vector, axis, degrees):\n",
    "    theta = degrees * (np.pi / 180.0)\n",
    "    axis = axis / norm(axis)  # normalize the rotation vector first\n",
    "    rot = Rotation.from_rotvec(theta * axis)\n",
    "    new_v = rot.apply(vector)\n",
    "    return new_v\n",
    "\n",
    "\n",
    "def project_to_image_plane(X, Y, Z,\n",
    "                           horizontal_focal_length_pixels, vertical_focal_length_pixels,\n",
    "                           horizontal_focal_center_pixels, vertical_focal_center_pixels):\n",
    "    \"\"\"\n",
    "    Projects a 3D world point (X, Y, Z) into 2D image plane coordinates (u, v).\n",
    "\n",
    "    Parameters:\n",
    "    X, Y, Z: float\n",
    "        3D coordinates of the point in world space.\n",
    "    horizontal_focal_length_pixels: float\n",
    "        Focal length of the camera in the horizontal direction (in pixels).\n",
    "    vertical_focal_length_pixels: float\n",
    "        Focal length of the camera in the vertical direction (in pixels).\n",
    "    horizontal_focal_center_pixels: float\n",
    "        The x-coordinate of the principal point (optical center) in the image.\n",
    "    vertical_focal_center_pixels: float\n",
    "        The y-coordinate of the principal point (optical center) in the image.\n",
    "\n",
    "    Returns:\n",
    "    u, v: float\n",
    "        2D pixel coordinates in the image plane.\n",
    "    \"\"\"\n",
    "    # Project onto the 2D image plane\n",
    "    u = (X * horizontal_focal_length_pixels) / Z + horizontal_focal_center_pixels\n",
    "    v = (Y * vertical_focal_length_pixels) / Z + vertical_focal_center_pixels\n",
    "\n",
    "    return u, v\n",
    "\n",
    "def extract_exif_data(image_path):\n",
    "    with ExifToolHelper() as et:\n",
    "        metadata = et.get_metadata(image_path)\n",
    "    return metadata[0]\n",
    "\n",
    "exif_data_ST = []\n",
    "for image_path in images_ST:\n",
    "    metadata = extract_exif_data(image_path)\n",
    "    exif_data_ST.append({\n",
    "        'file_path': image_path,\n",
    "        'gps_latitude': metadata.get('EXIF:GPSLatitude'),\n",
    "        'gps_longitude': metadata.get('EXIF:GPSLongitude'),\n",
    "        'gps_altitude': metadata.get('EXIF:GPSAltitude'),\n",
    "        'yaw': float(metadata.get('XMP:Yaw', 0)),  # Convert to float, default to 0 if not present\n",
    "        'pitch': float(metadata.get('XMP:Pitch', 0)),  # Convert to float, default to 0 if not present\n",
    "        'roll': float(metadata.get('XMP:Roll', 0)),  # Convert to float, default to 0 if not present\n",
    "    })"
   ],
   "metadata": {
    "collapsed": false,
    "ExecuteTime": {
     "end_time": "2024-08-09T10:11:23.055625Z",
     "start_time": "2024-08-09T10:11:22.908646Z"
    }
   },
   "id": "8dcf4b7232aa562",
   "execution_count": 38
  },
  {
   "cell_type": "code",
   "outputs": [],
   "source": [
    "def get_panels_ST_3D(img, valid_ids):\n",
    "    panels = []\n",
    "    tags = [detector.detect(img) for detector in detectors]\n",
    "    #Flatten\n",
    "    tags = sum(tags, [])\n",
    "\n",
    "    def estimate(tag):\n",
    "        width = tag_sizes_in_m[tag.getFamily()]\n",
    "        pose_estimator = AprilTagPoseEstimator(\n",
    "            AprilTagPoseEstimator.Config(width[0], horizontal_focal_length_pixels,\n",
    "                                         vertical_focal_length_pixels,\n",
    "                                         horizontal_focal_center_pixels, vertical_focal_center_pixels))\n",
    "        return pose_estimator.estimate(tag)\n",
    "\n",
    "    estimates = [estimate(tag) for tag in tags if verify_detections(tag, valid_ids)]\n",
    "    for tag, estimate in zip(tags, estimates):\n",
    "        tag_size = tag_sizes_in_m[tag.getFamily()]\n",
    "        # The estimated rotation is a vector that points up and away form the panel (Z axis is up towards the camera)\n",
    "        tag_orientation = [estimate.rotation().x, estimate.rotation().y, estimate.rotation().z]\n",
    "        tag_center = [estimate.translation().x, estimate.translation().y, estimate.translation().z]\n",
    "        # Normalize then and scale the rotation vector to the tag_size\n",
    "        tag_orientation = tag_orientation / np.linalg.norm(tag_orientation)\n",
    "        tag_orientation = tag_orientation * (tag_size[1] / 2)\n",
    "        # The tag orientation is then rotated to face the \"up\" side of the tag when thinking in terms of a 2d paper print. (Towards the panel on the ground)\n",
    "        towards_panel_direction = rotate_vector(tag_orientation, [0, 1, 0], 90.0)\n",
    "        # Calculate location vectors that point in the direction of the panel edges\n",
    "        panel_edge_midpoint = tag_center + towards_panel_direction\n",
    "        panel_edge = (towards_panel_direction / np.linalg.norm(towards_panel_direction)) * panel_size_m\n",
    "        half_panel_edge = panel_edge / 2\n",
    "        panel_edge_midpoint_to_corner = rotate_vector(half_panel_edge, [0, 0, 1], 90.0)\n",
    "        cornerA = panel_edge_midpoint + panel_edge_midpoint_to_corner\n",
    "        cornerB = panel_edge_midpoint - panel_edge_midpoint_to_corner\n",
    "        cornerC = panel_edge_midpoint + panel_edge - panel_edge_midpoint_to_corner\n",
    "        cornerD = panel_edge_midpoint + panel_edge + panel_edge_midpoint_to_corner\n",
    "        panels.append((estimate, (cornerA, cornerB, cornerC, cornerD)))\n",
    "    return panels\n",
    "\n",
    "\n",
    "def project(corners):\n",
    "    return [project_to_image_plane(*corner,\n",
    "                                   horizontal_focal_length_pixels,\n",
    "                                   vertical_focal_length_pixels,\n",
    "                                   horizontal_focal_center_pixels,\n",
    "                                   vertical_focal_center_pixels) for corner in corners]"
   ],
   "metadata": {
    "collapsed": false,
    "ExecuteTime": {
     "end_time": "2024-08-09T09:53:53.973761Z",
     "start_time": "2024-08-09T09:53:53.964378Z"
    }
   },
   "id": "faa59671d0e181a6",
   "execution_count": 20
  },
  {
   "cell_type": "code",
   "outputs": [],
   "source": [
    "def show_panels_ST_3D_in_2D(img, valid_ids):\n",
    "    fig_2d = plt.figure()\n",
    "    ax = fig_2d.subplots(1, 1)\n",
    "    ax.imshow(img, cmap=\"grey\")\n",
    "    panels_3d = get_panels_ST_3D(img, valid_ids)\n",
    "    panels = [(project([estimate.translation()]), project(corners)) for (estimate, corners) in panels_3d]\n",
    "    for ([estimate], corners), color in zip(panels, colors):\n",
    "        ax.scatter(estimate[0], estimate[1], color=color)\n",
    "        x, y = zip(*corners)\n",
    "\n",
    "        # Append the first point to the end to close the rectangle/polygon\n",
    "        x = list(x) + [x[0]]\n",
    "        y = list(y) + [y[0]]\n",
    "        ax.plot(x, y, color=color)\n",
    "    fig_2d.show()"
   ],
   "metadata": {
    "collapsed": false,
    "ExecuteTime": {
     "end_time": "2024-08-09T09:53:54.953364Z",
     "start_time": "2024-08-09T09:53:54.945026Z"
    }
   },
   "id": "7b6a8a5fb2a09e64",
   "execution_count": 21
  },
  {
   "cell_type": "code",
   "outputs": [],
   "source": [
    "def show_panels_ST_3D_in_3D(img, valid_ids):\n",
    "    fig_3d = plt.figure()\n",
    "    ax_3d = fig_3d.add_subplot(111, projection='3d')\n",
    "    ax_3d.set_xlim(-5, 5)\n",
    "    ax_3d.set_ylim(-5, 5)\n",
    "    ax_3d.set_zlim(25)\n",
    "    color = \"green\"\n",
    "\n",
    "    def print_location(point):\n",
    "        ax_3d.scatter(*point, marker=\"o\", color=color, s=2)\n",
    "\n",
    "    panels_3d = get_panels_ST_3D(img, valid_ids)\n",
    "    for (estimate, corners), color in zip(panels_3d, colors):\n",
    "        ax_3d.quiver(*estimate.translation().toVector(),\n",
    "                     *rotate_vector([estimate.rotation().x, estimate.rotation().y, estimate.rotation().z], [0, 1, 0],\n",
    "                                    90.0),\n",
    "                     color=color)\n",
    "        print_location(estimate.translation())\n",
    "        edgeA, edgeB, edgeC, edgeD = corners\n",
    "        print_location(edgeA)\n",
    "        print_location(edgeB)\n",
    "        print_location(edgeC)\n",
    "        print_location(edgeD)\n",
    "        ax_3d.quiver(*edgeA, *(edgeB - edgeA), color=color)\n",
    "        ax_3d.quiver(*edgeB, *(edgeC - edgeB), color=color)\n",
    "        ax_3d.quiver(*edgeC, *(edgeD - edgeC), color=color)\n",
    "        ax_3d.quiver(*edgeD, *(edgeA - edgeD), color=color)\n",
    "    fig_3d.show()\n"
   ],
   "metadata": {
    "collapsed": false,
    "ExecuteTime": {
     "end_time": "2024-08-09T09:53:55.894386Z",
     "start_time": "2024-08-09T09:53:55.885929Z"
    }
   },
   "id": "fb6a2feccac488df",
   "execution_count": 22
  },
  {
   "cell_type": "code",
   "outputs": [],
   "source": [
    "show_panels_ST_3D_in_2D(images_ST[0], [4])\n",
    "show_panels_ST_3D_in_3D(images_ST[0], [4])"
   ],
   "metadata": {
    "collapsed": false,
    "ExecuteTime": {
     "end_time": "2024-08-09T09:53:57.767712Z",
     "start_time": "2024-08-09T09:53:56.360714Z"
    }
   },
   "id": "9c1da1b6accdafce",
   "execution_count": 23
  }
 ],
 "metadata": {
  "kernelspec": {
   "display_name": "Python 3",
   "language": "python",
   "name": "python3"
  },
  "language_info": {
   "codemirror_mode": {
    "name": "ipython",
    "version": 2
   },
   "file_extension": ".py",
   "mimetype": "text/x-python",
   "name": "python",
   "nbconvert_exporter": "python",
   "pygments_lexer": "ipython2",
   "version": "2.7.6"
  }
 },
 "nbformat": 4,
 "nbformat_minor": 5
}
