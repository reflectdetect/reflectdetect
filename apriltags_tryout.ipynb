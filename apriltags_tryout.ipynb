{
 "cells": [
  {
   "cell_type": "code",
   "execution_count": 234,
   "id": "initial_id",
   "metadata": {
    "collapsed": true,
    "ExecuteTime": {
     "end_time": "2024-08-08T13:32:45.253281Z",
     "start_time": "2024-08-08T13:32:45.247544Z"
    }
   },
   "outputs": [],
   "source": [
    "from collections import OrderedDict\n",
    "from typing import List\n",
    "\n",
    "import cv2\n",
    "import matplotlib\n",
    "import matplotlib.pyplot as plt\n",
    "import numpy as np\n",
    "from numpy.linalg import norm\n",
    "from robotpy_apriltag import AprilTagDetector, AprilTagPoseEstimator, AprilTagDetection\n",
    "from scipy.spatial.transform import Rotation\n",
    "from wpimath.geometry import Transform3d\n"
   ]
  },
  {
   "cell_type": "code",
   "outputs": [],
   "source": [
    "matplotlib.use('TkAgg')"
   ],
   "metadata": {
    "collapsed": false,
    "ExecuteTime": {
     "end_time": "2024-08-08T11:38:38.135628Z",
     "start_time": "2024-08-08T11:38:38.044167Z"
    }
   },
   "id": "cda1bc28d5b24dd3",
   "execution_count": 2
  },
  {
   "cell_type": "code",
   "outputs": [],
   "source": [
    "paths = [\n",
    "    \".\\\\data\\\\apriltags_test\\\\best_case.png\",\n",
    "    \".\\\\data\\\\apriltags_test\\\\higher.png\",\n",
    "    \".\\\\data\\\\apriltags_test\\\\highest.tif\",\n",
    "    \"data/apriltags_run2/0001SET/000/IMG_0031_2.tif\"\n",
    "]\n",
    "paths_cross_ref = [\n",
    "    \".\\\\data\\\\apriltags_test\\\\highest_cross_ref\\\\IMG_0259_1.tif\",\n",
    "    \".\\\\data\\\\apriltags_test\\\\highest_cross_ref\\\\IMG_0259_2.tif\",\n",
    "    \".\\\\data\\\\apriltags_test\\\\highest_cross_ref\\\\IMG_0259_3.tif\",\n",
    "    \".\\\\data\\\\apriltags_test\\\\highest_cross_ref\\\\IMG_0259_4.tif\",\n",
    "    \".\\\\data\\\\apriltags_test\\\\highest_cross_ref\\\\IMG_0259_5.tif\",\n",
    "]\n",
    "images = [cv2.imread(path, cv2.IMREAD_GRAYSCALE) for path in paths]\n",
    "images_cross_ref = [cv2.imread(path, cv2.IMREAD_GRAYSCALE) for path in paths_cross_ref]"
   ],
   "metadata": {
    "collapsed": false,
    "ExecuteTime": {
     "end_time": "2024-08-08T11:38:38.237485Z",
     "start_time": "2024-08-08T11:38:38.137938Z"
    }
   },
   "id": "41dcbc4a6c6737a6",
   "execution_count": 3
  },
  {
   "cell_type": "code",
   "outputs": [],
   "source": [
    "families = [\n",
    "    \"tag16h5\",\n",
    "    \"tag25h9\",\n",
    "    \"tagStandard41h12\",\n",
    "    \"tagStandard52h13\",\n",
    "    \"tagCircle49h12\",\n",
    "    \"tagCircle21h7\",\n",
    "]\n",
    "detectors: List[AprilTagDetector] = []\n",
    "for family in families:\n",
    "    d = AprilTagDetector()\n",
    "    d.addFamily(family)\n",
    "    config = AprilTagDetector.Config()\n",
    "    config.quadDecimate = 1.0\n",
    "    config.numThreads = 4\n",
    "    config.refineEdges = 1.0\n",
    "    d.setConfig(config)\n",
    "    detectors.append(d)\n",
    "\n",
    "cmap = plt.get_cmap('viridis')\n",
    "colors = cmap(np.linspace(0, 1, len(detectors)))"
   ],
   "metadata": {
    "collapsed": false,
    "ExecuteTime": {
     "end_time": "2024-08-08T11:39:03.895364Z",
     "start_time": "2024-08-08T11:38:54.174270Z"
    }
   },
   "id": "a3f69254a327a163",
   "execution_count": 6
  },
  {
   "cell_type": "code",
   "outputs": [],
   "source": [
    "def verify_detections(tag, valid_ids=None) -> bool:\n",
    "    if valid_ids is None:\n",
    "        valid_ids = [0, 4, 9]\n",
    "    return tag.getId() in valid_ids"
   ],
   "metadata": {
    "collapsed": false,
    "ExecuteTime": {
     "end_time": "2024-08-08T11:39:03.920917Z",
     "start_time": "2024-08-08T11:39:03.916794Z"
    }
   },
   "id": "20197b648e0d981d",
   "execution_count": 7
  },
  {
   "cell_type": "code",
   "outputs": [],
   "source": [
    "def detect_tags(img, show_id=False):\n",
    "    plt.imshow(img, cmap=\"gray\")\n",
    "    plt.axis(\"off\")\n",
    "    for detector, color in zip(detectors, colors):\n",
    "        tags: List[AprilTagDetection] = detector.detect(img)\n",
    "        for tag in tags:\n",
    "            if not verify_detections(tag):\n",
    "                continue\n",
    "            plt.scatter(tag.getCenter().x, tag.getCenter().y, marker=\"o\", color=color, s=20, label=tag.getFamily())\n",
    "            if show_id:\n",
    "                plt.text(tag.getCenter().x + 50, tag.getCenter().y - 50, tag.getId(), color=\"black\", ha=\"center\",\n",
    "                         va=\"center\",\n",
    "                         bbox=dict(boxstyle=\"round\",\n",
    "                                   ec=(1., 0.5, 0.5),\n",
    "                                   fc=(1., 0.8, 0.8),\n",
    "                                   ))\n",
    "    handles, labels = plt.gca().get_legend_handles_labels()\n",
    "    by_label = OrderedDict(zip(labels, handles))\n",
    "    plt.legend(by_label.values(), by_label.keys())\n",
    "    plt.show()"
   ],
   "metadata": {
    "collapsed": false,
    "ExecuteTime": {
     "end_time": "2024-08-08T11:15:27.302461Z",
     "start_time": "2024-08-08T11:15:27.291802Z"
    }
   },
   "id": "18220daebb686255",
   "execution_count": 92
  },
  {
   "cell_type": "code",
   "outputs": [
    {
     "ename": "TypeError",
     "evalue": "Axes3D.text() missing 1 required positional argument: 's'",
     "output_type": "error",
     "traceback": [
      "\u001B[1;31m---------------------------------------------------------------------------\u001B[0m",
      "\u001B[1;31mTypeError\u001B[0m                                 Traceback (most recent call last)",
      "Cell \u001B[1;32mIn[93], line 1\u001B[0m\n\u001B[1;32m----> 1\u001B[0m \u001B[43mdetect_tags\u001B[49m\u001B[43m(\u001B[49m\u001B[43mimages\u001B[49m\u001B[43m[\u001B[49m\u001B[38;5;241;43m3\u001B[39;49m\u001B[43m]\u001B[49m\u001B[43m,\u001B[49m\u001B[43m \u001B[49m\u001B[38;5;28;43;01mTrue\u001B[39;49;00m\u001B[43m)\u001B[49m\n",
      "Cell \u001B[1;32mIn[92], line 11\u001B[0m, in \u001B[0;36mdetect_tags\u001B[1;34m(img, show_id)\u001B[0m\n\u001B[0;32m      9\u001B[0m         plt\u001B[38;5;241m.\u001B[39mscatter(tag\u001B[38;5;241m.\u001B[39mgetCenter()\u001B[38;5;241m.\u001B[39mx, tag\u001B[38;5;241m.\u001B[39mgetCenter()\u001B[38;5;241m.\u001B[39my, marker\u001B[38;5;241m=\u001B[39m\u001B[38;5;124m\"\u001B[39m\u001B[38;5;124mo\u001B[39m\u001B[38;5;124m\"\u001B[39m, color\u001B[38;5;241m=\u001B[39mcolor, s\u001B[38;5;241m=\u001B[39m\u001B[38;5;241m20\u001B[39m, label\u001B[38;5;241m=\u001B[39mtag\u001B[38;5;241m.\u001B[39mgetFamily())\n\u001B[0;32m     10\u001B[0m         \u001B[38;5;28;01mif\u001B[39;00m show_id:\n\u001B[1;32m---> 11\u001B[0m             \u001B[43mplt\u001B[49m\u001B[38;5;241;43m.\u001B[39;49m\u001B[43mtext\u001B[49m\u001B[43m(\u001B[49m\u001B[43mtag\u001B[49m\u001B[38;5;241;43m.\u001B[39;49m\u001B[43mgetCenter\u001B[49m\u001B[43m(\u001B[49m\u001B[43m)\u001B[49m\u001B[38;5;241;43m.\u001B[39;49m\u001B[43mx\u001B[49m\u001B[43m \u001B[49m\u001B[38;5;241;43m+\u001B[39;49m\u001B[43m \u001B[49m\u001B[38;5;241;43m50\u001B[39;49m\u001B[43m,\u001B[49m\u001B[43m \u001B[49m\u001B[43mtag\u001B[49m\u001B[38;5;241;43m.\u001B[39;49m\u001B[43mgetCenter\u001B[49m\u001B[43m(\u001B[49m\u001B[43m)\u001B[49m\u001B[38;5;241;43m.\u001B[39;49m\u001B[43my\u001B[49m\u001B[43m \u001B[49m\u001B[38;5;241;43m-\u001B[39;49m\u001B[43m \u001B[49m\u001B[38;5;241;43m50\u001B[39;49m\u001B[43m,\u001B[49m\u001B[43m \u001B[49m\u001B[43mtag\u001B[49m\u001B[38;5;241;43m.\u001B[39;49m\u001B[43mgetId\u001B[49m\u001B[43m(\u001B[49m\u001B[43m)\u001B[49m\u001B[43m,\u001B[49m\u001B[43m \u001B[49m\u001B[43mcolor\u001B[49m\u001B[38;5;241;43m=\u001B[39;49m\u001B[38;5;124;43m\"\u001B[39;49m\u001B[38;5;124;43mblack\u001B[39;49m\u001B[38;5;124;43m\"\u001B[39;49m\u001B[43m,\u001B[49m\u001B[43m \u001B[49m\u001B[43mha\u001B[49m\u001B[38;5;241;43m=\u001B[39;49m\u001B[38;5;124;43m\"\u001B[39;49m\u001B[38;5;124;43mcenter\u001B[39;49m\u001B[38;5;124;43m\"\u001B[39;49m\u001B[43m,\u001B[49m\n\u001B[0;32m     12\u001B[0m \u001B[43m                     \u001B[49m\u001B[43mva\u001B[49m\u001B[38;5;241;43m=\u001B[39;49m\u001B[38;5;124;43m\"\u001B[39;49m\u001B[38;5;124;43mcenter\u001B[39;49m\u001B[38;5;124;43m\"\u001B[39;49m\u001B[43m,\u001B[49m\n\u001B[0;32m     13\u001B[0m \u001B[43m                     \u001B[49m\u001B[43mbbox\u001B[49m\u001B[38;5;241;43m=\u001B[39;49m\u001B[38;5;28;43mdict\u001B[39;49m\u001B[43m(\u001B[49m\u001B[43mboxstyle\u001B[49m\u001B[38;5;241;43m=\u001B[39;49m\u001B[38;5;124;43m\"\u001B[39;49m\u001B[38;5;124;43mround\u001B[39;49m\u001B[38;5;124;43m\"\u001B[39;49m\u001B[43m,\u001B[49m\n\u001B[0;32m     14\u001B[0m \u001B[43m                               \u001B[49m\u001B[43mec\u001B[49m\u001B[38;5;241;43m=\u001B[39;49m\u001B[43m(\u001B[49m\u001B[38;5;241;43m1.\u001B[39;49m\u001B[43m,\u001B[49m\u001B[43m \u001B[49m\u001B[38;5;241;43m0.5\u001B[39;49m\u001B[43m,\u001B[49m\u001B[43m \u001B[49m\u001B[38;5;241;43m0.5\u001B[39;49m\u001B[43m)\u001B[49m\u001B[43m,\u001B[49m\n\u001B[0;32m     15\u001B[0m \u001B[43m                               \u001B[49m\u001B[43mfc\u001B[49m\u001B[38;5;241;43m=\u001B[39;49m\u001B[43m(\u001B[49m\u001B[38;5;241;43m1.\u001B[39;49m\u001B[43m,\u001B[49m\u001B[43m \u001B[49m\u001B[38;5;241;43m0.8\u001B[39;49m\u001B[43m,\u001B[49m\u001B[43m \u001B[49m\u001B[38;5;241;43m0.8\u001B[39;49m\u001B[43m)\u001B[49m\u001B[43m,\u001B[49m\n\u001B[0;32m     16\u001B[0m \u001B[43m                               \u001B[49m\u001B[43m)\u001B[49m\u001B[43m)\u001B[49m\n\u001B[0;32m     17\u001B[0m handles, labels \u001B[38;5;241m=\u001B[39m plt\u001B[38;5;241m.\u001B[39mgca()\u001B[38;5;241m.\u001B[39mget_legend_handles_labels()\n\u001B[0;32m     18\u001B[0m by_label \u001B[38;5;241m=\u001B[39m OrderedDict(\u001B[38;5;28mzip\u001B[39m(labels, handles))\n",
      "File \u001B[1;32m~\\reflectdetect\\venv\\Lib\\site-packages\\matplotlib\\pyplot.py:3954\u001B[0m, in \u001B[0;36mtext\u001B[1;34m(x, y, s, fontdict, **kwargs)\u001B[0m\n\u001B[0;32m   3950\u001B[0m \u001B[38;5;129m@_copy_docstring_and_deprecators\u001B[39m(Axes\u001B[38;5;241m.\u001B[39mtext)\n\u001B[0;32m   3951\u001B[0m \u001B[38;5;28;01mdef\u001B[39;00m \u001B[38;5;21mtext\u001B[39m(\n\u001B[0;32m   3952\u001B[0m     x: \u001B[38;5;28mfloat\u001B[39m, y: \u001B[38;5;28mfloat\u001B[39m, s: \u001B[38;5;28mstr\u001B[39m, fontdict: \u001B[38;5;28mdict\u001B[39m[\u001B[38;5;28mstr\u001B[39m, Any] \u001B[38;5;241m|\u001B[39m \u001B[38;5;28;01mNone\u001B[39;00m \u001B[38;5;241m=\u001B[39m \u001B[38;5;28;01mNone\u001B[39;00m, \u001B[38;5;241m*\u001B[39m\u001B[38;5;241m*\u001B[39mkwargs\n\u001B[0;32m   3953\u001B[0m ) \u001B[38;5;241m-\u001B[39m\u001B[38;5;241m>\u001B[39m Text:\n\u001B[1;32m-> 3954\u001B[0m     \u001B[38;5;28;01mreturn\u001B[39;00m \u001B[43mgca\u001B[49m\u001B[43m(\u001B[49m\u001B[43m)\u001B[49m\u001B[38;5;241;43m.\u001B[39;49m\u001B[43mtext\u001B[49m\u001B[43m(\u001B[49m\u001B[43mx\u001B[49m\u001B[43m,\u001B[49m\u001B[43m \u001B[49m\u001B[43my\u001B[49m\u001B[43m,\u001B[49m\u001B[43m \u001B[49m\u001B[43ms\u001B[49m\u001B[43m,\u001B[49m\u001B[43m \u001B[49m\u001B[43mfontdict\u001B[49m\u001B[38;5;241;43m=\u001B[39;49m\u001B[43mfontdict\u001B[49m\u001B[43m,\u001B[49m\u001B[43m \u001B[49m\u001B[38;5;241;43m*\u001B[39;49m\u001B[38;5;241;43m*\u001B[39;49m\u001B[43mkwargs\u001B[49m\u001B[43m)\u001B[49m\n",
      "\u001B[1;31mTypeError\u001B[0m: Axes3D.text() missing 1 required positional argument: 's'"
     ]
    }
   ],
   "source": [
    "detect_tags(images[3], True)"
   ],
   "metadata": {
    "collapsed": false,
    "ExecuteTime": {
     "end_time": "2024-08-08T11:15:29.038348Z",
     "start_time": "2024-08-08T11:15:28.396878Z"
    }
   },
   "id": "a7be670a71130e0e",
   "execution_count": 93
  },
  {
   "cell_type": "code",
   "outputs": [],
   "source": [
    "for i, img in enumerate(images):\n",
    "    detect_tags(img, True)"
   ],
   "metadata": {
    "collapsed": false,
    "ExecuteTime": {
     "end_time": "2024-08-07T13:14:55.192139Z",
     "start_time": "2024-08-07T13:14:53.610458Z"
    }
   },
   "id": "a071b99784e779d3",
   "execution_count": 8
  },
  {
   "cell_type": "markdown",
   "source": [
    "## Cross Referencing between Bands"
   ],
   "metadata": {
    "collapsed": false
   },
   "id": "3af881b0ca7579de"
  },
  {
   "cell_type": "code",
   "outputs": [],
   "source": [
    "def detect_tags_cross_reference(imgs):\n",
    "    plt.imshow(imgs[1], cmap=\"gray\")\n",
    "    plt.axis(\"off\")\n",
    "    for img in imgs:\n",
    "        for detector, color in zip(detectors, colors):\n",
    "            tags: List[AprilTagDetection] = detector.detect(img)\n",
    "            for tag in tags:\n",
    "                plt.scatter(tag.getCenter().x, tag.getCenter().y, marker=\"o\", color=color, s=10, label=tag.getFamily())\n",
    "    handles, labels = plt.gca().get_legend_handles_labels()\n",
    "    by_label = OrderedDict(zip(labels, handles))\n",
    "    plt.legend(by_label.values(), by_label.keys())\n",
    "    plt.show()"
   ],
   "metadata": {
    "collapsed": false,
    "ExecuteTime": {
     "end_time": "2024-08-07T13:15:31.389849Z",
     "start_time": "2024-08-07T13:15:31.383435Z"
    }
   },
   "id": "e514e7821a4cd96d",
   "execution_count": 8
  },
  {
   "cell_type": "code",
   "outputs": [],
   "source": [
    "detect_tags_cross_reference(images_cross_ref)"
   ],
   "metadata": {
    "collapsed": false,
    "ExecuteTime": {
     "end_time": "2024-08-07T13:15:36.636285Z",
     "start_time": "2024-08-07T13:15:31.840707Z"
    }
   },
   "id": "edb565d1a3acad68",
   "execution_count": 9
  },
  {
   "cell_type": "markdown",
   "source": [
    "## 3D Pose Estimation"
   ],
   "metadata": {
    "collapsed": false
   },
   "id": "3e955cd200573b15"
  },
  {
   "cell_type": "code",
   "outputs": [],
   "source": [
    "# Hyperparameters\n",
    "horizontal_focal_length_pixels = 1581.7867974691412\n",
    "horizontal_focal_center_pixels = 678.6724626822399\n",
    "vertical_focal_length_pixels = 1581.7867974691412\n",
    "vertical_focal_center_pixels = 529.4318832108801\n",
    "tag_size = 0.5\n",
    "panel_size = 1.0"
   ],
   "metadata": {
    "collapsed": false,
    "ExecuteTime": {
     "end_time": "2024-08-08T13:33:39.976399Z",
     "start_time": "2024-08-08T13:33:39.971401Z"
    }
   },
   "id": "70db794c1e2c8b4a",
   "execution_count": 238
  },
  {
   "cell_type": "code",
   "outputs": [],
   "source": [
    "# Helper functions\n",
    "\n",
    "def rotate_vector(vector, axis, degrees):\n",
    "    theta = degrees * (np.pi / 180.0)\n",
    "    axis = axis / norm(axis)  # normalize the rotation vector first\n",
    "    rot = Rotation.from_rotvec(theta * axis)\n",
    "    new_v = rot.apply(vector)\n",
    "    return new_v\n",
    "\n",
    "\n",
    "def project_to_image_plane(X, Y, Z,\n",
    "                           horizontal_focal_length_pixels, vertical_focal_length_pixels,\n",
    "                           horizontal_focal_center_pixels, vertical_focal_center_pixels):\n",
    "    \"\"\"\n",
    "    Projects a 3D world point (X, Y, Z) into 2D image plane coordinates (u, v).\n",
    "\n",
    "    Parameters:\n",
    "    X, Y, Z: float\n",
    "        3D coordinates of the point in world space.\n",
    "    horizontal_focal_length_pixels: float\n",
    "        Focal length of the camera in the horizontal direction (in pixels).\n",
    "    vertical_focal_length_pixels: float\n",
    "        Focal length of the camera in the vertical direction (in pixels).\n",
    "    horizontal_focal_center_pixels: float\n",
    "        The x-coordinate of the principal point (optical center) in the image.\n",
    "    vertical_focal_center_pixels: float\n",
    "        The y-coordinate of the principal point (optical center) in the image.\n",
    "\n",
    "    Returns:\n",
    "    u, v: float\n",
    "        2D pixel coordinates in the image plane.\n",
    "    \"\"\"\n",
    "    # Project onto the 2D image plane\n",
    "    u = (X * horizontal_focal_length_pixels) / Z + horizontal_focal_center_pixels\n",
    "    v = (Y * vertical_focal_length_pixels) / Z + vertical_focal_center_pixels\n",
    "\n",
    "    return u, v"
   ],
   "metadata": {
    "collapsed": false,
    "ExecuteTime": {
     "end_time": "2024-08-08T13:33:39.147629Z",
     "start_time": "2024-08-08T13:33:39.141873Z"
    }
   },
   "id": "8dcf4b7232aa562",
   "execution_count": 237
  },
  {
   "cell_type": "code",
   "outputs": [],
   "source": [
    "def pose_estimate_tags_and_mark_panels(img, valid_ids=None):\n",
    "    fig_3d = plt.figure()\n",
    "    ax_3d = fig_3d.add_subplot(111, projection='3d')\n",
    "    ax_3d.set_xlim(-5, 5)\n",
    "    ax_3d.set_ylim(-5, 5)\n",
    "    ax_3d.set_zlim(25)\n",
    "    color = \"green\"\n",
    "\n",
    "    def print_location(point):\n",
    "        ax_3d.scatter(*point, marker=\"o\", color=color, s=2)\n",
    "\n",
    "    # Print image\n",
    "    R = np.eye(3)\n",
    "    t = np.zeros((1, 3))\n",
    "    img_color = cv2.cvtColor(img, cv2.COLOR_RGB2BGRA)\n",
    "    #plotImage(ax_3d, img_color, R, t, size=[1000,1000], img_scale=16)\n",
    "\n",
    "    # Print Camera location\n",
    "    print_location([0, 0, 0])\n",
    "    pose_estimator = AprilTagPoseEstimator(\n",
    "        AprilTagPoseEstimator.Config(tag_size, horizontal_focal_length_pixels,\n",
    "                                     vertical_focal_length_pixels,\n",
    "                                     horizontal_focal_center_pixels, vertical_focal_center_pixels))\n",
    "    for detector, color in zip(detectors, colors):\n",
    "        tags: List[AprilTagDetection] = detector.detect(img)\n",
    "        for tag in tags:\n",
    "            if not verify_detections(tag, valid_ids):\n",
    "                continue\n",
    "            estimate: Transform3d = pose_estimator.estimate(tag)\n",
    "            # Plot the 3D pose estimate\n",
    "            rotation = [estimate.rotation().x, estimate.rotation().y, estimate.rotation().z]\n",
    "            rotation = rotation / np.linalg.norm(rotation)\n",
    "            rotation = rotation * tag_size\n",
    "            #ax_3d.quiver(origin[0], origin[1], origin[2], *rotation)\n",
    "            tag_up_dir = rotate_vector(rotation, [0, 1, 0], 90.0)\n",
    "            border_between_tag_and_panel = estimate.translation() + tag_up_dir\n",
    "            edgeA = border_between_tag_and_panel + rotate_vector(tag_up_dir * (1 / tag_size) * (panel_size / 2),\n",
    "                                                                 [0, 0, 1],\n",
    "                                                                 90.0)\n",
    "            edgeB = border_between_tag_and_panel - rotate_vector(tag_up_dir * (1 / tag_size) * (panel_size / 2),\n",
    "                                                                 [0, 0, 1],\n",
    "                                                                 90.0)\n",
    "            edgeC = border_between_tag_and_panel + tag_up_dir * (1 / tag_size) * panel_size - rotate_vector(\n",
    "                tag_up_dir * (1 / tag_size) * (panel_size / 2), [0, 0, 1],\n",
    "                90.0)\n",
    "            edgeD = border_between_tag_and_panel + tag_up_dir * (1 / tag_size) * panel_size + rotate_vector(\n",
    "                tag_up_dir * (1 / tag_size) * (panel_size / 2), [0, 0, 1],\n",
    "                90.0)\n",
    "\n",
    "            ax_3d.quiver(*estimate.translation().toVector(), *tag_up_dir, color=color)\n",
    "            print_location(border_between_tag_and_panel )\n",
    "            print_location(estimate.translation())\n",
    "            print_location(edgeA)\n",
    "            print_location(edgeB)\n",
    "            print_location(edgeC)\n",
    "            print_location(edgeD)\n",
    "            ax_3d.quiver(*edgeA, *(edgeB - edgeA), color=color)\n",
    "            ax_3d.quiver(*edgeB, *(edgeC - edgeB), color=color)\n",
    "            ax_3d.quiver(*edgeC, *(edgeD - edgeC), color=color)\n",
    "            ax_3d.quiver(*edgeD, *(edgeA - edgeD), color=color)\n",
    "    fig_3d.show()"
   ],
   "metadata": {
    "collapsed": false,
    "ExecuteTime": {
     "end_time": "2024-08-08T13:36:28.212097Z",
     "start_time": "2024-08-08T13:36:28.203473Z"
    }
   },
   "id": "c78aca6566399f43",
   "execution_count": 244
  },
  {
   "cell_type": "code",
   "outputs": [],
   "source": [
    "pose_estimate_tags_and_mark_panels(images[3], [4])"
   ],
   "metadata": {
    "collapsed": false,
    "ExecuteTime": {
     "end_time": "2024-08-08T13:36:29.650489Z",
     "start_time": "2024-08-08T13:36:28.790003Z"
    }
   },
   "id": "bfdf0cc36495f515",
   "execution_count": 245
  },
  {
   "cell_type": "code",
   "outputs": [
    {
     "name": "stdout",
     "output_type": "stream",
     "text": [
      "Projected pixel coordinates: (u, v) = (995.0298221760681, 1162.1466021985366)\n"
     ]
    }
   ],
   "source": [
    "\n"
   ],
   "metadata": {
    "collapsed": false,
    "ExecuteTime": {
     "end_time": "2024-08-08T13:05:58.741989Z",
     "start_time": "2024-08-08T13:05:58.737396Z"
    }
   },
   "id": "30a710d4a6503e11",
   "execution_count": 217
  },
  {
   "cell_type": "code",
   "outputs": [],
   "source": [
    "def get_panel_edges(img, valid_ids):\n",
    "    panels = []\n",
    "    for detector, family in zip(detectors, families):\n",
    "        tags: List[AprilTagDetection] = detector.detect(img)\n",
    "        tag_size_adjusted = tag_size\n",
    "        if family == \"tag25h9\":\n",
    "            tag_size_adjusted = 0.382\n",
    "        elif family == \"tagCircle21h7\":\n",
    "            tag_size_adjusted = 0.47\n",
    "        pose_estimator = AprilTagPoseEstimator(\n",
    "            AprilTagPoseEstimator.Config(tag_size_adjusted, horizontal_focal_length_pixels,\n",
    "                                         vertical_focal_length_pixels,\n",
    "                                         horizontal_focal_center_pixels, vertical_focal_center_pixels))\n",
    "        for tag in tags:\n",
    "            if not verify_detections(tag, valid_ids):\n",
    "                continue\n",
    "            estimate: Transform3d = pose_estimator.estimate(tag)\n",
    "            # The estimated rotation is a vector that points up and away form the panel (Z axis is up towards the camera)\n",
    "            tag_orientation = [estimate.rotation().x, estimate.rotation().y, estimate.rotation().z]\n",
    "            # Scale the rotation vector to the tag_size\n",
    "            tag_orientation = tag_orientation / np.linalg.norm(tag_orientation)\n",
    "            tag_orientation = tag_orientation * tag_size_adjusted\n",
    "            # The tag orientation is then rotated to face the \"up\" side of the tag when thinking in terms of a 2d paper print. (Towards the panel on the ground)\n",
    "            tag_up_dir = rotate_vector(tag_orientation, [0, 1, 0], 90.0)\n",
    "            # Calculate vectors that point in the direction of the panel edges\n",
    "            tag_panel_border = estimate.translation() + tag_up_dir\n",
    "            panel_length = tag_up_dir * (1 / tag_size_adjusted) * panel_size\n",
    "            half_panel_length = panel_length / 2\n",
    "            panel_midpoint_to_edge = rotate_vector(half_panel_length, [0, 0, 1], 90.0)\n",
    "            edgeA = tag_panel_border + panel_midpoint_to_edge\n",
    "            edgeB = tag_panel_border - panel_midpoint_to_edge\n",
    "            edgeC = tag_panel_border + panel_length - panel_midpoint_to_edge\n",
    "            edgeD = tag_panel_border + panel_length + panel_midpoint_to_edge\n",
    "            panels.append((estimate, (edgeA, edgeB, edgeC, edgeD)))\n",
    "    return panels\n",
    "\n",
    "\n",
    "def project_edges(edges):\n",
    "    return [project_to_image_plane(*edge,\n",
    "                                   horizontal_focal_length_pixels,\n",
    "                                   vertical_focal_length_pixels,\n",
    "                                   horizontal_focal_center_pixels,\n",
    "                                   vertical_focal_center_pixels) for edge in edges]"
   ],
   "metadata": {
    "collapsed": false,
    "ExecuteTime": {
     "end_time": "2024-08-08T13:38:18.640479Z",
     "start_time": "2024-08-08T13:38:18.633290Z"
    }
   },
   "id": "faa59671d0e181a6",
   "execution_count": 251
  },
  {
   "cell_type": "code",
   "outputs": [],
   "source": [
    "def show_panels_in_image_by_pose_estimation(img, valid_ids):\n",
    "    fig_2d = plt.figure()\n",
    "    ax = fig_2d.subplots(1, 1)\n",
    "    ax.imshow(img, cmap=\"grey\")\n",
    "    panels_3d = get_panel_edges(img, valid_ids)\n",
    "    panels = [(project_edges([estimate.translation()]), project_edges(edges)) for (estimate, edges) in panels_3d]\n",
    "    for ([estimate], edges), color in zip(panels, colors):\n",
    "        ax.scatter(estimate[0], estimate[1], color=color)\n",
    "        x, y = zip(*edges)\n",
    "\n",
    "        # Append the first point to the end to close the rectangle/polygon\n",
    "        x = list(x) + [x[0]]\n",
    "        y = list(y) + [y[0]]\n",
    "        ax.plot(x, y, color=color)\n",
    "    fig_2d.show()"
   ],
   "metadata": {
    "collapsed": false,
    "ExecuteTime": {
     "end_time": "2024-08-08T13:41:13.571588Z",
     "start_time": "2024-08-08T13:41:13.566807Z"
    }
   },
   "id": "7b6a8a5fb2a09e64",
   "execution_count": 268
  },
  {
   "cell_type": "code",
   "outputs": [],
   "source": [
    "show_panels_in_image_by_pose_estimation(images[3], [4])"
   ],
   "metadata": {
    "collapsed": false,
    "ExecuteTime": {
     "end_time": "2024-08-08T13:41:14.578034Z",
     "start_time": "2024-08-08T13:41:14.113136Z"
    }
   },
   "id": "9c1da1b6accdafce",
   "execution_count": 269
  }
 ],
 "metadata": {
  "kernelspec": {
   "display_name": "Python 3",
   "language": "python",
   "name": "python3"
  },
  "language_info": {
   "codemirror_mode": {
    "name": "ipython",
    "version": 2
   },
   "file_extension": ".py",
   "mimetype": "text/x-python",
   "name": "python",
   "nbconvert_exporter": "python",
   "pygments_lexer": "ipython2",
   "version": "2.7.6"
  }
 },
 "nbformat": 4,
 "nbformat_minor": 5
}
