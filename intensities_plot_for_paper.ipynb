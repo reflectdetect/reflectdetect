{
 "cells": [
  {
   "cell_type": "code",
   "outputs": [],
   "source": [
    "import numpy as np\n"
   ],
   "metadata": {
    "collapsed": false,
    "ExecuteTime": {
     "end_time": "2024-10-03T10:11:55.733273Z",
     "start_time": "2024-10-03T10:11:55.582403Z"
    }
   },
   "id": "cd80420752601d54",
   "execution_count": 29
  },
  {
   "cell_type": "code",
   "outputs": [],
   "source": [
    "from pathlib import Path\n",
    "\n",
    "output_folder = Path(\"D:/reflectdetect/example_apriltag_dataset\")\n",
    "number_of_images = 1638\n",
    "number_of_panels = 3\n",
    "bands = [2, 4]\n",
    "number_of_bands = len(bands)"
   ],
   "metadata": {
    "collapsed": false,
    "ExecuteTime": {
     "end_time": "2024-10-03T10:51:45.336937Z",
     "start_time": "2024-10-03T10:51:45.322399Z"
    }
   },
   "id": "f0c75e563cda25ee",
   "execution_count": 35
  },
  {
   "cell_type": "code",
   "outputs": [
    {
     "ename": "FileNotFoundError",
     "evalue": "D:\\reflectdetect\\example_apriltag_dataset\\band_2_intensities.csv not found.",
     "output_type": "error",
     "traceback": [
      "\u001B[1;31m---------------------------------------------------------------------------\u001B[0m",
      "\u001B[1;31mFileNotFoundError\u001B[0m                         Traceback (most recent call last)",
      "Cell \u001B[1;32mIn[36], line 5\u001B[0m\n\u001B[0;32m      3\u001B[0m     filename \u001B[38;5;241m=\u001B[39m \u001B[38;5;124mf\u001B[39m\u001B[38;5;124m\"\u001B[39m\u001B[38;5;124mband_\u001B[39m\u001B[38;5;132;01m{\u001B[39;00mband\u001B[38;5;132;01m}\u001B[39;00m\u001B[38;5;124m_intensities.csv\u001B[39m\u001B[38;5;124m\"\u001B[39m\n\u001B[0;32m      4\u001B[0m     input_path \u001B[38;5;241m=\u001B[39m output_folder \u001B[38;5;241m/\u001B[39m filename\n\u001B[1;32m----> 5\u001B[0m     intensities[:, :, band] \u001B[38;5;241m=\u001B[39m \u001B[43mnp\u001B[49m\u001B[38;5;241;43m.\u001B[39;49m\u001B[43mgenfromtxt\u001B[49m\u001B[43m(\u001B[49m\u001B[43minput_path\u001B[49m\u001B[43m,\u001B[49m\u001B[43m \u001B[49m\u001B[43mdelimiter\u001B[49m\u001B[38;5;241;43m=\u001B[39;49m\u001B[38;5;124;43m\"\u001B[39;49m\u001B[38;5;124;43m,\u001B[39;49m\u001B[38;5;124;43m\"\u001B[39;49m\u001B[43m)\u001B[49m\n\u001B[0;32m      6\u001B[0m interpolated_intensities \u001B[38;5;241m=\u001B[39m np\u001B[38;5;241m.\u001B[39mzeros((number_of_images, number_of_panels, number_of_bands))\n\u001B[0;32m      7\u001B[0m \u001B[38;5;28;01mfor\u001B[39;00m band \u001B[38;5;129;01min\u001B[39;00m \u001B[38;5;28mrange\u001B[39m(\u001B[38;5;241m0\u001B[39m, number_of_bands):\n",
      "File \u001B[1;32m~\\miniconda3\\envs\\reflectdetect-test\\lib\\site-packages\\numpy\\lib\\_npyio_impl.py:2007\u001B[0m, in \u001B[0;36mgenfromtxt\u001B[1;34m(fname, dtype, comments, delimiter, skip_header, skip_footer, converters, missing_values, filling_values, usecols, names, excludelist, deletechars, replace_space, autostrip, case_sensitive, defaultfmt, unpack, usemask, loose, invalid_raise, max_rows, encoding, ndmin, like)\u001B[0m\n\u001B[0;32m   2005\u001B[0m     fname \u001B[38;5;241m=\u001B[39m os\u001B[38;5;241m.\u001B[39mfspath(fname)\n\u001B[0;32m   2006\u001B[0m \u001B[38;5;28;01mif\u001B[39;00m \u001B[38;5;28misinstance\u001B[39m(fname, \u001B[38;5;28mstr\u001B[39m):\n\u001B[1;32m-> 2007\u001B[0m     fid \u001B[38;5;241m=\u001B[39m \u001B[43mnp\u001B[49m\u001B[38;5;241;43m.\u001B[39;49m\u001B[43mlib\u001B[49m\u001B[38;5;241;43m.\u001B[39;49m\u001B[43m_datasource\u001B[49m\u001B[38;5;241;43m.\u001B[39;49m\u001B[43mopen\u001B[49m\u001B[43m(\u001B[49m\u001B[43mfname\u001B[49m\u001B[43m,\u001B[49m\u001B[43m \u001B[49m\u001B[38;5;124;43m'\u001B[39;49m\u001B[38;5;124;43mrt\u001B[39;49m\u001B[38;5;124;43m'\u001B[39;49m\u001B[43m,\u001B[49m\u001B[43m \u001B[49m\u001B[43mencoding\u001B[49m\u001B[38;5;241;43m=\u001B[39;49m\u001B[43mencoding\u001B[49m\u001B[43m)\u001B[49m\n\u001B[0;32m   2008\u001B[0m     fid_ctx \u001B[38;5;241m=\u001B[39m contextlib\u001B[38;5;241m.\u001B[39mclosing(fid)\n\u001B[0;32m   2009\u001B[0m \u001B[38;5;28;01melse\u001B[39;00m:\n",
      "File \u001B[1;32m~\\miniconda3\\envs\\reflectdetect-test\\lib\\site-packages\\numpy\\lib\\_datasource.py:192\u001B[0m, in \u001B[0;36mopen\u001B[1;34m(path, mode, destpath, encoding, newline)\u001B[0m\n\u001B[0;32m    155\u001B[0m \u001B[38;5;250m\u001B[39m\u001B[38;5;124;03m\"\"\"\u001B[39;00m\n\u001B[0;32m    156\u001B[0m \u001B[38;5;124;03mOpen `path` with `mode` and return the file object.\u001B[39;00m\n\u001B[0;32m    157\u001B[0m \n\u001B[1;32m   (...)\u001B[0m\n\u001B[0;32m    188\u001B[0m \n\u001B[0;32m    189\u001B[0m \u001B[38;5;124;03m\"\"\"\u001B[39;00m\n\u001B[0;32m    191\u001B[0m ds \u001B[38;5;241m=\u001B[39m DataSource(destpath)\n\u001B[1;32m--> 192\u001B[0m \u001B[38;5;28;01mreturn\u001B[39;00m \u001B[43mds\u001B[49m\u001B[38;5;241;43m.\u001B[39;49m\u001B[43mopen\u001B[49m\u001B[43m(\u001B[49m\u001B[43mpath\u001B[49m\u001B[43m,\u001B[49m\u001B[43m \u001B[49m\u001B[43mmode\u001B[49m\u001B[43m,\u001B[49m\u001B[43m \u001B[49m\u001B[43mencoding\u001B[49m\u001B[38;5;241;43m=\u001B[39;49m\u001B[43mencoding\u001B[49m\u001B[43m,\u001B[49m\u001B[43m \u001B[49m\u001B[43mnewline\u001B[49m\u001B[38;5;241;43m=\u001B[39;49m\u001B[43mnewline\u001B[49m\u001B[43m)\u001B[49m\n",
      "File \u001B[1;32m~\\miniconda3\\envs\\reflectdetect-test\\lib\\site-packages\\numpy\\lib\\_datasource.py:529\u001B[0m, in \u001B[0;36mDataSource.open\u001B[1;34m(self, path, mode, encoding, newline)\u001B[0m\n\u001B[0;32m    526\u001B[0m     \u001B[38;5;28;01mreturn\u001B[39;00m _file_openers[ext](found, mode\u001B[38;5;241m=\u001B[39mmode,\n\u001B[0;32m    527\u001B[0m                               encoding\u001B[38;5;241m=\u001B[39mencoding, newline\u001B[38;5;241m=\u001B[39mnewline)\n\u001B[0;32m    528\u001B[0m \u001B[38;5;28;01melse\u001B[39;00m:\n\u001B[1;32m--> 529\u001B[0m     \u001B[38;5;28;01mraise\u001B[39;00m \u001B[38;5;167;01mFileNotFoundError\u001B[39;00m(\u001B[38;5;124mf\u001B[39m\u001B[38;5;124m\"\u001B[39m\u001B[38;5;132;01m{\u001B[39;00mpath\u001B[38;5;132;01m}\u001B[39;00m\u001B[38;5;124m not found.\u001B[39m\u001B[38;5;124m\"\u001B[39m)\n",
      "\u001B[1;31mFileNotFoundError\u001B[0m: D:\\reflectdetect\\example_apriltag_dataset\\band_2_intensities.csv not found."
     ]
    }
   ],
   "source": [
    "intensities = np.zeros((number_of_images, number_of_panels, number_of_bands))\n",
    "for band in bands:\n",
    "    filename = f\"band_{band}_intensities.csv\"\n",
    "    input_path = output_folder / filename\n",
    "    intensities[:, :, band] = np.genfromtxt(input_path, delimiter=\",\")\n",
    "interpolated_intensities = np.zeros((number_of_images, number_of_panels, number_of_bands))\n",
    "for band in range(0, number_of_bands):\n",
    "    filename = f\"band_{band}_intensities_interpolated.csv\"\n",
    "    input_path = output_folder / filename\n",
    "    interpolated_intensities[:, :, band] = np.genfromtxt(input_path, delimiter=\",\")\n",
    "output_path = output_folder / f\"intensities_paper.tif\"\n"
   ],
   "metadata": {
    "collapsed": false,
    "ExecuteTime": {
     "end_time": "2024-10-03T10:51:46.487938Z",
     "start_time": "2024-10-03T10:51:46.372934Z"
    }
   },
   "id": "a50d2cec1c8668cf",
   "execution_count": 36
  },
  {
   "cell_type": "code",
   "outputs": [],
   "source": [
    "from matplotlib import pyplot as plt\n",
    "\n",
    "number_of_bands = len(intensities[0, 0, :])\n",
    "fig, axes = plt.subplots(number_of_bands, sharex=True, figsize=(15, 15))\n",
    "max_intensity = np.nanmax(intensities)\n",
    "\n",
    "for band_index, ax in enumerate(axes):\n",
    "    ax.yaxis.set_ticks([])\n",
    "    ax.set_ylim([0, max_intensity * 1.2])\n",
    "    ax.set_ylabel(\"Intensity\")\n",
    "    ax.annotate(\n",
    "        \"Band \" + str(band_index + 1),\n",
    "        xy=(0, 1),\n",
    "        xycoords=\"axes fraction\",\n",
    "        xytext=(+0.5, -0.5),\n",
    "        textcoords=\"offset fontsize\",\n",
    "        fontsize=\"medium\",\n",
    "        verticalalignment=\"top\",\n",
    "        fontfamily=\"serif\",\n",
    "        bbox=dict(facecolor=\"0.7\", edgecolor=\"none\", pad=3.0),\n",
    "    )\n",
    "    number_of_panels = len(intensities[0, :, 0])\n",
    "    for panel_index in range(0, number_of_panels):\n",
    "        line, = ax.plot(interpolated_intensities[:, panel_index, band_index], ls='--', lw=1)\n",
    "        ax.plot(intensities[:, panel_index, band_index], color=line.get_color(), lw=1.5)\n",
    "plt.xlabel(\"Image index\")\n",
    "number_of_images = len(intensities[:, 0, 0])\n",
    "plt.xlim([0, number_of_images])\n",
    "if output_path is not None:\n",
    "    plt.savefig(output_path, dpi=300)\n",
    "else:\n",
    "    plt.show()\n",
    "plt.close(fig)"
   ],
   "metadata": {
    "collapsed": false
   },
   "id": "56e564db36295bd7"
  }
 ],
 "metadata": {
  "kernelspec": {
   "display_name": "Python 3",
   "language": "python",
   "name": "python3"
  },
  "language_info": {
   "codemirror_mode": {
    "name": "ipython",
    "version": 2
   },
   "file_extension": ".py",
   "mimetype": "text/x-python",
   "name": "python",
   "nbconvert_exporter": "python",
   "pygments_lexer": "ipython2",
   "version": "2.7.6"
  }
 },
 "nbformat": 4,
 "nbformat_minor": 5
}
