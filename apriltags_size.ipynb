{
 "cells": [
  {
   "cell_type": "code",
   "outputs": [],
   "source": [
    "import math\n",
    "\n",
    "import numpy as np"
   ],
   "metadata": {
    "collapsed": false,
    "ExecuteTime": {
     "end_time": "2024-07-23T09:09:50.462777Z",
     "start_time": "2024-07-23T09:09:49.894899Z"
    }
   },
   "id": "3a8669ae525b77f9",
   "execution_count": 1
  },
  {
   "cell_type": "code",
   "execution_count": 2,
   "id": "initial_id",
   "metadata": {
    "collapsed": true,
    "ExecuteTime": {
     "end_time": "2024-07-23T09:09:57.875381Z",
     "start_time": "2024-07-23T09:09:57.868518Z"
    }
   },
   "outputs": [],
   "source": [
    "\n",
    "def calculate_panel_size_in_pixels(altitude, resolution, sensor_size_mm, focal_length_mm,\n",
    "                                   physical_panel_size):\n",
    "    \"\"\"\n",
    "    Calculate the expected size of an object in pixels based on camera parameters and object physical size.\n",
    "\n",
    "    Parameters:\n",
    "        altitude (float): Altitude in meters.\n",
    "        resolution (tuple): Image resolution (width, height) in pixels.\n",
    "        sensor_size_mm (float): Sensor diagonal in millimeters.\n",
    "        focal_length_m (float): Focal length in millimeters.\n",
    "        physical_panel_size (tuple): Physical size of the object in meters (width, height).\n",
    "\n",
    "    Returns:\n",
    "        tuple: Expected width and height of the object in pixels.\n",
    "    \"\"\"\n",
    "    # Convert sensor diagonal to meters\n",
    "    sensor_diagonal = sensor_size_mm / 1000  # Convert mm to m\n",
    "    focal_length = focal_length_mm / 1000\n",
    "\n",
    "    # Calculate horizontal and vertical Field of View (FoV)\n",
    "    fov_horizontal = 2 * math.atan(\n",
    "        (sensor_diagonal / (2 * math.sqrt(1 + (resolution[0] / resolution[1]) ** 2))) / focal_length)\n",
    "    fov_vertical = 2 * math.atan(\n",
    "        (sensor_diagonal / (2 * math.sqrt(1 + (resolution[1] / resolution[0]) ** 2))) / focal_length)\n",
    "\n",
    "    # Calculate scale in pixels per meter\n",
    "    scale_pixels_per_meter = resolution[1] / (altitude * math.tan(fov_vertical / 2))\n",
    "\n",
    "    # Calculate expected panel size in pixels\n",
    "    panel_width_pixels = np.intp(physical_panel_size[0] * scale_pixels_per_meter)\n",
    "    panel_height_pixels = np.intp(physical_panel_size[1] * scale_pixels_per_meter)\n",
    "\n",
    "    return panel_width_pixels, panel_height_pixels"
   ]
  },
  {
   "cell_type": "code",
   "outputs": [],
   "source": [
    "focal_length_mm = 5.5\n",
    "resolution = (1456, 1088)\n",
    "sensor_size_mm = 6.3\n",
    "sensor_diagonal = sensor_size_mm / 1000\n",
    "focal_length = focal_length_mm / 1000\n",
    "fov_horizontal = 2 * math.atan(\n",
    "        (sensor_diagonal / (2 * math.sqrt(1 + (resolution[0] / resolution[1]) ** 2))) / focal_length)\n",
    "# tag sizes in meters for a4 to a1:\n",
    "tags = [(0.21, 0.210),\n",
    "        (0.297, 0.297),\n",
    "        (0.420, 0.420),\n",
    "        (0.594, 0.594)]"
   ],
   "metadata": {
    "collapsed": false,
    "ExecuteTime": {
     "end_time": "2024-07-23T10:56:53.779726Z",
     "start_time": "2024-07-23T10:56:53.774096Z"
    }
   },
   "id": "c4da418e04e95175",
   "execution_count": 20
  },
  {
   "cell_type": "code",
   "outputs": [
    {
     "name": "stdout",
     "output_type": "stream",
     "text": [
      "A4: 25 meters\n",
      "A3: 36 meters\n",
      "A2: 50 meters\n",
      "A1: 71 meters\n"
     ]
    }
   ],
   "source": [
    "for i, tag in enumerate(tags):\n",
    "    for height in range(1, 100):\n",
    "        pixels = calculate_panel_size_in_pixels(height, resolution, sensor_size_mm, focal_length_mm, tag)\n",
    "        if pixels[0] < 20:\n",
    "            break\n",
    "    print(f\"A{4 - i}:\", height, \"meters\")"
   ],
   "metadata": {
    "collapsed": false,
    "ExecuteTime": {
     "end_time": "2024-07-23T09:23:46.147741Z",
     "start_time": "2024-07-23T09:23:46.140709Z"
    }
   },
   "id": "5d04c8b3b3158169",
   "execution_count": 12
  },
  {
   "cell_type": "markdown",
   "source": [
    "https://optitag.io/blogs/news/designing-your-perfect-apriltag"
   ],
   "metadata": {
    "collapsed": false
   },
   "id": "7587d76069048fc7"
  },
  {
   "cell_type": "code",
   "outputs": [],
   "source": [
    "def get_max_detection_distance(panel_size: float, horizontal_fov: float, horizontal_resolution: float, pixel_per_bit = 5):\n",
    "    t = panel_size\n",
    "    f = horizontal_fov\n",
    "    r = horizontal_resolution\n",
    "    b = bits = 6  # for 25h9\n",
    "    p = pixel_per_bit  # hyperparameter, lowest is 2\n",
    "    return t / (2 * math.tan((b * f * p) / (2 * r)))"
   ],
   "metadata": {
    "collapsed": false,
    "ExecuteTime": {
     "end_time": "2024-07-23T11:01:32.903257Z",
     "start_time": "2024-07-23T11:01:32.897295Z"
    }
   },
   "id": "d4152780217b6d8d",
   "execution_count": 37
  },
  {
   "cell_type": "code",
   "outputs": [
    {
     "name": "stdout",
     "output_type": "stream",
     "text": [
      "A4: Optimal: 15 meters Highest: 38 meters\n",
      "A3: Optimal: 21 meters Highest: 54 meters\n",
      "A2: Optimal: 30 meters Highest: 77 meters\n",
      "A1: Optimal: 43 meters Highest: 109 meters\n"
     ]
    }
   ],
   "source": [
    "for i, tag in enumerate(tags):\n",
    "    print(f\"A{4 - i}:\", \"Optimal:\",int(get_max_detection_distance(tag[0],fov_horizontal, resolution[0])), \"meters\", \"Highest:\",int(get_max_detection_distance(tag[0],fov_horizontal, resolution[0], 2)), \"meters\")"
   ],
   "metadata": {
    "collapsed": false,
    "ExecuteTime": {
     "end_time": "2024-07-23T11:02:11.005093Z",
     "start_time": "2024-07-23T11:02:10.999053Z"
    }
   },
   "id": "e2ada4005baf37a9",
   "execution_count": 39
  }
 ],
 "metadata": {
  "kernelspec": {
   "display_name": "Python 3",
   "language": "python",
   "name": "python3"
  },
  "language_info": {
   "codemirror_mode": {
    "name": "ipython",
    "version": 2
   },
   "file_extension": ".py",
   "mimetype": "text/x-python",
   "name": "python",
   "nbconvert_exporter": "python",
   "pygments_lexer": "ipython2",
   "version": "2.7.6"
  }
 },
 "nbformat": 4,
 "nbformat_minor": 5
}
