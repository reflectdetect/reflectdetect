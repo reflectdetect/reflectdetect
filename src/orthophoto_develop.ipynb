{
 "cells": [
  {
   "cell_type": "code",
   "execution_count": 61,
   "id": "initial_id",
   "metadata": {
    "collapsed": true,
    "ExecuteTime": {
     "end_time": "2024-08-04T12:51:18.030548Z",
     "start_time": "2024-08-04T12:51:18.021884Z"
    }
   },
   "outputs": [],
   "source": [
    "from importlib import reload\n",
    "from tqdm import tqdm\n",
    "import main\n",
    "reload(main)\n",
    "from main import *"
   ]
  },
  {
   "cell_type": "code",
   "outputs": [],
   "source": [
    "panel_properties_file = \"../reflectance_panel_example_data.json\"\n",
    "geopackage_file = \"../data/20240529_uav_multispectral_orthos_20m/20240529_tarps_locations.gpkg\"\n",
    "orthophotos_dir = \"../data/20240529_uav_multispectral_orthos_20m/orthophotos\""
   ],
   "metadata": {
    "collapsed": false,
    "ExecuteTime": {
     "end_time": "2024-08-04T12:49:31.233821Z",
     "start_time": "2024-08-04T12:49:31.229740Z"
    }
   },
   "id": "768d026adb2c8723",
   "execution_count": 53
  },
  {
   "cell_type": "code",
   "outputs": [],
   "source": [
    "panels = load_panel_properties(panel_properties_file)\n",
    "panel_locations = load_panel_locations(geopackage_file)\n",
    "orthophoto_paths = get_orthophoto_paths(orthophotos_dir)\n",
    "with rasterio.open(orthophoto_paths[0]) as orthophoto:\n",
    "    number_of_bands = len(orthophoto.read())\n",
    "    \n",
    "assert len(panels) == len(panel_locations)\n",
    "assert number_of_bands == len(panels[0]['bands'])"
   ],
   "metadata": {
    "collapsed": false,
    "ExecuteTime": {
     "end_time": "2024-08-04T12:49:31.889959Z",
     "start_time": "2024-08-04T12:49:31.692138Z"
    }
   },
   "id": "7a3b6ed12a6d5c60",
   "execution_count": 54
  },
  {
   "cell_type": "markdown",
   "source": [
    "# 1. For each image extract each panel intensities for each band"
   ],
   "metadata": {
    "collapsed": false
   },
   "id": "9342051fdaa5bcac"
  },
  {
   "cell_type": "code",
   "outputs": [
    {
     "data": {
      "text/plain": "(296, 3, 6)"
     },
     "execution_count": 55,
     "metadata": {},
     "output_type": "execute_result"
    }
   ],
   "source": [
    "intensities = np.zeros((len(orthophoto_paths), len(panel_locations), number_of_bands))\n",
    "intensities.shape"
   ],
   "metadata": {
    "collapsed": false,
    "ExecuteTime": {
     "end_time": "2024-08-04T12:49:37.550647Z",
     "start_time": "2024-08-04T12:49:37.544051Z"
    }
   },
   "id": "5aeb534b6ef137bb",
   "execution_count": 55
  },
  {
   "cell_type": "code",
   "outputs": [],
   "source": [
    "orthophoto_paths = list(sorted(orthophoto_paths))"
   ],
   "metadata": {
    "collapsed": false,
    "ExecuteTime": {
     "end_time": "2024-08-04T12:49:38.125866Z",
     "start_time": "2024-08-04T12:49:38.119968Z"
    }
   },
   "id": "a9b89996cfa18b6a",
   "execution_count": 56
  },
  {
   "cell_type": "code",
   "outputs": [
    {
     "name": "stderr",
     "output_type": "stream",
     "text": [
      "100%|██████████| 296/296 [00:32<00:00,  9.07it/s]\n"
     ]
    },
    {
     "data": {
      "text/plain": "array([[[nan, nan, nan, nan, nan, nan],\n        [nan, nan, nan, nan, nan, nan],\n        [nan, nan, nan, nan, nan, nan]],\n\n       [[nan, nan, nan, nan, nan, nan],\n        [nan, nan, nan, nan, nan, nan],\n        [nan, nan, nan, nan, nan, nan]],\n\n       [[nan, nan, nan, nan, nan, nan],\n        [nan, nan, nan, nan, nan, nan],\n        [nan, nan, nan, nan, nan, nan]],\n\n       ...,\n\n       [[nan, nan, nan, nan, nan, nan],\n        [nan, nan, nan, nan, nan, nan],\n        [nan, nan, nan, nan, nan, nan]],\n\n       [[nan, nan, nan, nan, nan, nan],\n        [nan, nan, nan, nan, nan, nan],\n        [nan, nan, nan, nan, nan, nan]],\n\n       [[nan, nan, nan, nan, nan, nan],\n        [nan, nan, nan, nan, nan, nan],\n        [nan, nan, nan, nan, nan, nan]]])"
     },
     "execution_count": 57,
     "metadata": {},
     "output_type": "execute_result"
    }
   ],
   "source": [
    "# Extract intensities\n",
    "for photo_index, orthophoto_path in enumerate(tqdm(orthophoto_paths)):\n",
    "    with rasterio.open(orthophoto_path) as orthophoto:\n",
    "        photo = orthophoto.read()\n",
    "        for panel_index, panel in enumerate(panel_locations):\n",
    "            if not is_panel_in_orthophoto(orthophoto_path, panel):\n",
    "                intensities[photo_index][panel_index] = np.full(len(photo), np.NaN)\n",
    "                continue\n",
    "            panel_intensities_per_band = extract(orthophoto, panel)\n",
    "            for band_index, band in enumerate(photo):\n",
    "                intensities[photo_index][panel_index][band_index] = panel_intensities_per_band[band_index]\n",
    "intensities"
   ],
   "metadata": {
    "collapsed": false,
    "ExecuteTime": {
     "end_time": "2024-08-04T12:50:11.350341Z",
     "start_time": "2024-08-04T12:49:38.692775Z"
    }
   },
   "id": "c38c6efc8b1ef5bf",
   "execution_count": 57
  },
  {
   "cell_type": "markdown",
   "source": [
    "# Interpolate the intensities by panel and band"
   ],
   "metadata": {
    "collapsed": false
   },
   "id": "e71e1a492351e29f"
  },
  {
   "cell_type": "code",
   "outputs": [
    {
     "data": {
      "text/plain": "array([[[nan, nan, nan, nan, nan, nan],\n        [nan, nan, nan, nan, nan, nan],\n        [nan, nan, nan, nan, nan, nan]],\n\n       [[nan, nan, nan, nan, nan, nan],\n        [nan, nan, nan, nan, nan, nan],\n        [nan, nan, nan, nan, nan, nan]],\n\n       [[nan, nan, nan, nan, nan, nan],\n        [nan, nan, nan, nan, nan, nan],\n        [nan, nan, nan, nan, nan, nan]],\n\n       ...,\n\n       [[nan, nan, nan, nan, nan, nan],\n        [nan, nan, nan, nan, nan, nan],\n        [nan, nan, nan, nan, nan, nan]],\n\n       [[nan, nan, nan, nan, nan, nan],\n        [nan, nan, nan, nan, nan, nan],\n        [nan, nan, nan, nan, nan, nan]],\n\n       [[nan, nan, nan, nan, nan, nan],\n        [nan, nan, nan, nan, nan, nan],\n        [nan, nan, nan, nan, nan, nan]]])"
     },
     "execution_count": 58,
     "metadata": {},
     "output_type": "execute_result"
    }
   ],
   "source": [
    "for panel_index, panel in enumerate(panel_locations):\n",
    "    for band_index, band in enumerate(photo):\n",
    "        intensities[:, panel_index, band_index] = interpolate(intensities[:, panel_index, band_index])\n",
    "intensities"
   ],
   "metadata": {
    "collapsed": false,
    "ExecuteTime": {
     "end_time": "2024-08-04T12:50:46.502201Z",
     "start_time": "2024-08-04T12:50:46.423638Z"
    }
   },
   "id": "df3d0dde968a33f2",
   "execution_count": 58
  },
  {
   "cell_type": "markdown",
   "source": [
    "# Convert photos by photo and band"
   ],
   "metadata": {
    "collapsed": false
   },
   "id": "1c47cad760e9d87a"
  },
  {
   "cell_type": "code",
   "outputs": [
    {
     "name": "stderr",
     "output_type": "stream",
     "text": [
      "100%|██████████| 296/296 [00:09<00:00, 31.17it/s]\n"
     ]
    }
   ],
   "source": [
    "unconvertable_photos = []\n",
    "converted_photos = []\n",
    "for photo_index, orthophoto_path in enumerate(tqdm(orthophoto_paths)):\n",
    "    converted_bands = []\n",
    "    for band_index, band in enumerate(photo):\n",
    "        intensities_of_panels = intensities[photo_index, :, band_index]\n",
    "        if np.isnan(intensities_of_panels).any():\n",
    "            unconvertable_photos.append((photo_index, band_index))\n",
    "            break\n",
    "        coeffs = fit(intensities_of_panels, get_band_reflectance(panels, band_index))\n",
    "        converted_bands.append(convert(band, coeffs))\n",
    "    else:\n",
    "        # for loop did not break, all bands were converted\n",
    "        converted_photos.append(combine(converted_bands))"
   ],
   "metadata": {
    "collapsed": false,
    "ExecuteTime": {
     "end_time": "2024-08-04T12:51:30.213446Z",
     "start_time": "2024-08-04T12:51:20.708628Z"
    }
   },
   "id": "582ea71a216f197f",
   "execution_count": 62
  },
  {
   "cell_type": "code",
   "outputs": [
    {
     "data": {
      "text/plain": "199"
     },
     "execution_count": 63,
     "metadata": {},
     "output_type": "execute_result"
    }
   ],
   "source": [
    "len(unconvertable_photos)"
   ],
   "metadata": {
    "collapsed": false,
    "ExecuteTime": {
     "end_time": "2024-08-04T12:51:43.678628Z",
     "start_time": "2024-08-04T12:51:43.672300Z"
    }
   },
   "id": "6cc4a9af3081783e",
   "execution_count": 63
  },
  {
   "cell_type": "code",
   "outputs": [
    {
     "data": {
      "text/plain": "97"
     },
     "execution_count": 64,
     "metadata": {},
     "output_type": "execute_result"
    }
   ],
   "source": [
    "len(converted_photos)"
   ],
   "metadata": {
    "collapsed": false,
    "ExecuteTime": {
     "end_time": "2024-08-04T12:51:49.736571Z",
     "start_time": "2024-08-04T12:51:49.731100Z"
    }
   },
   "id": "e771ecd1408eb848",
   "execution_count": 64
  }
 ],
 "metadata": {
  "kernelspec": {
   "display_name": "Python 3",
   "language": "python",
   "name": "python3"
  },
  "language_info": {
   "codemirror_mode": {
    "name": "ipython",
    "version": 2
   },
   "file_extension": ".py",
   "mimetype": "text/x-python",
   "name": "python",
   "nbconvert_exporter": "python",
   "pygments_lexer": "ipython2",
   "version": "2.7.6"
  }
 },
 "nbformat": 4,
 "nbformat_minor": 5
}
