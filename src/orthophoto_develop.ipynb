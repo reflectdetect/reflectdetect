{
 "cells": [
  {
   "cell_type": "code",
   "execution_count": 1,
   "id": "initial_id",
   "metadata": {
    "collapsed": true,
    "ExecuteTime": {
     "end_time": "2024-08-04T11:22:05.376063Z",
     "start_time": "2024-08-04T11:22:04.319042Z"
    }
   },
   "outputs": [],
   "source": [
    "from main import *"
   ]
  },
  {
   "cell_type": "code",
   "outputs": [],
   "source": [
    "panel_properties_file = \"../reflectance_panel_example_data.json\"\n",
    "geopackage_file = \"../data/20240529_uav_multispectral_orthos_20m/20240529_tarps_locations.gpkg\"\n",
    "orthophotos_dir = \"../data/20240529_uav_multispectral_orthos_20m/orthophotos\""
   ],
   "metadata": {
    "collapsed": false,
    "ExecuteTime": {
     "end_time": "2024-08-04T11:22:05.693775Z",
     "start_time": "2024-08-04T11:22:05.689752Z"
    }
   },
   "id": "768d026adb2c8723",
   "execution_count": 2
  },
  {
   "cell_type": "code",
   "outputs": [],
   "source": [
    "panels = load_panel_properties(panel_properties_file)\n",
    "panel_locations = load_panel_locations(geopackage_file)\n",
    "orthophoto_paths = get_orthophoto_paths(orthophotos_dir)\n",
    "with rasterio.open(orthophoto_paths[0]) as orthophoto:\n",
    "    number_of_bands = len(orthophoto.read())\n",
    "assert len(panels) == len(panel_locations)"
   ],
   "metadata": {
    "collapsed": false,
    "ExecuteTime": {
     "end_time": "2024-08-04T11:22:06.277053Z",
     "start_time": "2024-08-04T11:22:06.111193Z"
    }
   },
   "id": "7a3b6ed12a6d5c60",
   "execution_count": 3
  },
  {
   "cell_type": "markdown",
   "source": [
    "# 1. For each image extract each panel intensities for each band"
   ],
   "metadata": {
    "collapsed": false
   },
   "id": "9342051fdaa5bcac"
  },
  {
   "cell_type": "code",
   "outputs": [
    {
     "data": {
      "text/plain": "(50, 3, 6)"
     },
     "execution_count": 4,
     "metadata": {},
     "output_type": "execute_result"
    }
   ],
   "source": [
    "intensities = np.zeros((len(orthophoto_paths), len(panel_locations), number_of_bands))\n",
    "intensities.shape"
   ],
   "metadata": {
    "collapsed": false,
    "ExecuteTime": {
     "end_time": "2024-08-04T11:22:06.852841Z",
     "start_time": "2024-08-04T11:22:06.845923Z"
    }
   },
   "id": "5aeb534b6ef137bb",
   "execution_count": 4
  },
  {
   "cell_type": "code",
   "outputs": [],
   "source": [
    "orthophoto_paths = list(sorted(orthophoto_paths))"
   ],
   "metadata": {
    "collapsed": false,
    "ExecuteTime": {
     "end_time": "2024-08-04T11:22:07.221340Z",
     "start_time": "2024-08-04T11:22:07.218156Z"
    }
   },
   "id": "a9b89996cfa18b6a",
   "execution_count": 5
  },
  {
   "cell_type": "code",
   "outputs": [
    {
     "data": {
      "text/plain": "array([[[nan, nan, nan, nan, nan, nan],\n        [nan, nan, nan, nan, nan, nan],\n        [nan, nan, nan, nan, nan, nan]],\n\n       [[nan, nan, nan, nan, nan, nan],\n        [nan, nan, nan, nan, nan, nan],\n        [nan, nan, nan, nan, nan, nan]],\n\n       [[nan, nan, nan, nan, nan, nan],\n        [nan, nan, nan, nan, nan, nan],\n        [nan, nan, nan, nan, nan, nan]],\n\n       [[nan, nan, nan, nan, nan, nan],\n        [nan, nan, nan, nan, nan, nan],\n        [nan, nan, nan, nan, nan, nan]],\n\n       [[nan, nan, nan, nan, nan, nan],\n        [nan, nan, nan, nan, nan, nan],\n        [nan, nan, nan, nan, nan, nan]],\n\n       [[nan, nan, nan, nan, nan, nan],\n        [nan, nan, nan, nan, nan, nan],\n        [nan, nan, nan, nan, nan, nan]],\n\n       [[nan, nan, nan, nan, nan, nan],\n        [nan, nan, nan, nan, nan, nan],\n        [nan, nan, nan, nan, nan, nan]],\n\n       [[nan, nan, nan, nan, nan, nan],\n        [nan, nan, nan, nan, nan, nan],\n        [nan, nan, nan, nan, nan, nan]],\n\n       [[nan, nan, nan, nan, nan, nan],\n        [nan, nan, nan, nan, nan, nan],\n        [nan, nan, nan, nan, nan, nan]],\n\n       [[nan, nan, nan, nan, nan, nan],\n        [nan, nan, nan, nan, nan, nan],\n        [nan, nan, nan, nan, nan, nan]],\n\n       [[nan, nan, nan, nan, nan, nan],\n        [nan, nan, nan, nan, nan, nan],\n        [nan, nan, nan, nan, nan, nan]],\n\n       [[nan, nan, nan, nan, nan, nan],\n        [nan, nan, nan, nan, nan, nan],\n        [nan, nan, nan, nan, nan, nan]],\n\n       [[nan, nan, nan, nan, nan, nan],\n        [nan, nan, nan, nan, nan, nan],\n        [nan, nan, nan, nan, nan, nan]],\n\n       [[nan, nan, nan, nan, nan, nan],\n        [nan, nan, nan, nan, nan, nan],\n        [nan, nan, nan, nan, nan, nan]],\n\n       [[nan, nan, nan, nan, nan, nan],\n        [nan, nan, nan, nan, nan, nan],\n        [nan, nan, nan, nan, nan, nan]],\n\n       [[nan, nan, nan, nan, nan, nan],\n        [nan, nan, nan, nan, nan, nan],\n        [nan, nan, nan, nan, nan, nan]],\n\n       [[nan, nan, nan, nan, nan, nan],\n        [nan, nan, nan, nan, nan, nan],\n        [nan, nan, nan, nan, nan, nan]],\n\n       [[nan, nan, nan, nan, nan, nan],\n        [nan, nan, nan, nan, nan, nan],\n        [nan, nan, nan, nan, nan, nan]],\n\n       [[nan, nan, nan, nan, nan, nan],\n        [nan, nan, nan, nan, nan, nan],\n        [nan, nan, nan, nan, nan, nan]],\n\n       [[nan, nan, nan, nan, nan, nan],\n        [nan, nan, nan, nan, nan, nan],\n        [nan, nan, nan, nan, nan, nan]],\n\n       [[nan, nan, nan, nan, nan, nan],\n        [nan, nan, nan, nan, nan, nan],\n        [nan, nan, nan, nan, nan, nan]],\n\n       [[nan, nan, nan, nan, nan, nan],\n        [nan, nan, nan, nan, nan, nan],\n        [nan, nan, nan, nan, nan, nan]],\n\n       [[nan, nan, nan, nan, nan, nan],\n        [nan, nan, nan, nan, nan, nan],\n        [nan, nan, nan, nan, nan, nan]],\n\n       [[nan, nan, nan, nan, nan, nan],\n        [nan, nan, nan, nan, nan, nan],\n        [nan, nan, nan, nan, nan, nan]],\n\n       [[nan, nan, nan, nan, nan, nan],\n        [nan, nan, nan, nan, nan, nan],\n        [nan, nan, nan, nan, nan, nan]],\n\n       [[nan, nan, nan, nan, nan, nan],\n        [nan, nan, nan, nan, nan, nan],\n        [nan, nan, nan, nan, nan, nan]],\n\n       [[nan, nan, nan, nan, nan, nan],\n        [nan, nan, nan, nan, nan, nan],\n        [nan, nan, nan, nan, nan, nan]],\n\n       [[nan, nan, nan, nan, nan, nan],\n        [nan, nan, nan, nan, nan, nan],\n        [nan, nan, nan, nan, nan, nan]],\n\n       [[nan, nan, nan, nan, nan, nan],\n        [nan, nan, nan, nan, nan, nan],\n        [nan, nan, nan, nan, nan, nan]],\n\n       [[nan, nan, nan, nan, nan, nan],\n        [nan, nan, nan, nan, nan, nan],\n        [nan, nan, nan, nan, nan, nan]],\n\n       [[nan, nan, nan, nan, nan, nan],\n        [nan, nan, nan, nan, nan, nan],\n        [nan, nan, nan, nan, nan, nan]],\n\n       [[nan, nan, nan, nan, nan, nan],\n        [nan, nan, nan, nan, nan, nan],\n        [nan, nan, nan, nan, nan, nan]],\n\n       [[nan, nan, nan, nan, nan, nan],\n        [nan, nan, nan, nan, nan, nan],\n        [nan, nan, nan, nan, nan, nan]],\n\n       [[nan, nan, nan, nan, nan, nan],\n        [nan, nan, nan, nan, nan, nan],\n        [nan, nan, nan, nan, nan, nan]],\n\n       [[nan, nan, nan, nan, nan, nan],\n        [nan, nan, nan, nan, nan, nan],\n        [nan, nan, nan, nan, nan, nan]],\n\n       [[nan, nan, nan, nan, nan, nan],\n        [nan, nan, nan, nan, nan, nan],\n        [nan, nan, nan, nan, nan, nan]],\n\n       [[nan, nan, nan, nan, nan, nan],\n        [nan, nan, nan, nan, nan, nan],\n        [nan, nan, nan, nan, nan, nan]],\n\n       [[nan, nan, nan, nan, nan, nan],\n        [nan, nan, nan, nan, nan, nan],\n        [nan, nan, nan, nan, nan, nan]],\n\n       [[nan, nan, nan, nan, nan, nan],\n        [nan, nan, nan, nan, nan, nan],\n        [nan, nan, nan, nan, nan, nan]],\n\n       [[nan, nan, nan, nan, nan, nan],\n        [nan, nan, nan, nan, nan, nan],\n        [nan, nan, nan, nan, nan, nan]],\n\n       [[nan, nan, nan, nan, nan, nan],\n        [nan, nan, nan, nan, nan, nan],\n        [nan, nan, nan, nan, nan, nan]],\n\n       [[nan, nan, nan, nan, nan, nan],\n        [nan, nan, nan, nan, nan, nan],\n        [nan, nan, nan, nan, nan, nan]],\n\n       [[nan, nan, nan, nan, nan, nan],\n        [nan, nan, nan, nan, nan, nan],\n        [nan, nan, nan, nan, nan, nan]],\n\n       [[nan, nan, nan, nan, nan, nan],\n        [nan, nan, nan, nan, nan, nan],\n        [nan, nan, nan, nan, nan, nan]],\n\n       [[nan, nan, nan, nan, nan, nan],\n        [nan, nan, nan, nan, nan, nan],\n        [nan, nan, nan, nan, nan, nan]],\n\n       [[nan, nan, nan, nan, nan, nan],\n        [nan, nan, nan, nan, nan, nan],\n        [nan, nan, nan, nan, nan, nan]],\n\n       [[nan, nan, nan, nan, nan, nan],\n        [nan, nan, nan, nan, nan, nan],\n        [nan, nan, nan, nan, nan, nan]],\n\n       [[nan, nan, nan, nan, nan, nan],\n        [nan, nan, nan, nan, nan, nan],\n        [nan, nan, nan, nan, nan, nan]],\n\n       [[nan, nan, nan, nan, nan, nan],\n        [nan, nan, nan, nan, nan, nan],\n        [nan, nan, nan, nan, nan, nan]],\n\n       [[nan, nan, nan, nan, nan, nan],\n        [nan, nan, nan, nan, nan, nan],\n        [nan, nan, nan, nan, nan, nan]]])"
     },
     "execution_count": 6,
     "metadata": {},
     "output_type": "execute_result"
    }
   ],
   "source": [
    "# Extract intensities\n",
    "for photo_index, orthophoto_path in enumerate(orthophoto_paths):\n",
    "    with rasterio.open(orthophoto_path) as orthophoto:\n",
    "        photo = orthophoto.read()\n",
    "    for panel_index, panel in enumerate(panel_locations):\n",
    "        if not is_panel_in_orthophoto(orthophoto_path, panel):\n",
    "            intensities[photo_index][panel_index] = np.full(len(photo), np.NaN)\n",
    "            continue\n",
    "        for band_index, band in enumerate(photo):\n",
    "            panel_intensity = extract(band, panel)\n",
    "            intensities[orthophoto_path][panel_index][band_index] = panel_intensity\n",
    "intensities"
   ],
   "metadata": {
    "collapsed": false,
    "ExecuteTime": {
     "end_time": "2024-08-04T11:22:12.988619Z",
     "start_time": "2024-08-04T11:22:07.574987Z"
    }
   },
   "id": "c38c6efc8b1ef5bf",
   "execution_count": 6
  },
  {
   "cell_type": "code",
   "outputs": [
    {
     "name": "stdout",
     "output_type": "stream",
     "text": [
      "No values found for interpolation.\n",
      "No values found for interpolation.\n",
      "No values found for interpolation.\n",
      "No values found for interpolation.\n",
      "No values found for interpolation.\n",
      "No values found for interpolation.\n",
      "No values found for interpolation.\n",
      "No values found for interpolation.\n",
      "No values found for interpolation.\n",
      "No values found for interpolation.\n",
      "No values found for interpolation.\n",
      "No values found for interpolation.\n",
      "No values found for interpolation.\n",
      "No values found for interpolation.\n",
      "No values found for interpolation.\n",
      "No values found for interpolation.\n",
      "No values found for interpolation.\n",
      "No values found for interpolation.\n"
     ]
    },
    {
     "data": {
      "text/plain": "array([[[nan, nan, nan, nan, nan, nan],\n        [nan, nan, nan, nan, nan, nan],\n        [nan, nan, nan, nan, nan, nan]],\n\n       [[nan, nan, nan, nan, nan, nan],\n        [nan, nan, nan, nan, nan, nan],\n        [nan, nan, nan, nan, nan, nan]],\n\n       [[nan, nan, nan, nan, nan, nan],\n        [nan, nan, nan, nan, nan, nan],\n        [nan, nan, nan, nan, nan, nan]],\n\n       [[nan, nan, nan, nan, nan, nan],\n        [nan, nan, nan, nan, nan, nan],\n        [nan, nan, nan, nan, nan, nan]],\n\n       [[nan, nan, nan, nan, nan, nan],\n        [nan, nan, nan, nan, nan, nan],\n        [nan, nan, nan, nan, nan, nan]],\n\n       [[nan, nan, nan, nan, nan, nan],\n        [nan, nan, nan, nan, nan, nan],\n        [nan, nan, nan, nan, nan, nan]],\n\n       [[nan, nan, nan, nan, nan, nan],\n        [nan, nan, nan, nan, nan, nan],\n        [nan, nan, nan, nan, nan, nan]],\n\n       [[nan, nan, nan, nan, nan, nan],\n        [nan, nan, nan, nan, nan, nan],\n        [nan, nan, nan, nan, nan, nan]],\n\n       [[nan, nan, nan, nan, nan, nan],\n        [nan, nan, nan, nan, nan, nan],\n        [nan, nan, nan, nan, nan, nan]],\n\n       [[nan, nan, nan, nan, nan, nan],\n        [nan, nan, nan, nan, nan, nan],\n        [nan, nan, nan, nan, nan, nan]],\n\n       [[nan, nan, nan, nan, nan, nan],\n        [nan, nan, nan, nan, nan, nan],\n        [nan, nan, nan, nan, nan, nan]],\n\n       [[nan, nan, nan, nan, nan, nan],\n        [nan, nan, nan, nan, nan, nan],\n        [nan, nan, nan, nan, nan, nan]],\n\n       [[nan, nan, nan, nan, nan, nan],\n        [nan, nan, nan, nan, nan, nan],\n        [nan, nan, nan, nan, nan, nan]],\n\n       [[nan, nan, nan, nan, nan, nan],\n        [nan, nan, nan, nan, nan, nan],\n        [nan, nan, nan, nan, nan, nan]],\n\n       [[nan, nan, nan, nan, nan, nan],\n        [nan, nan, nan, nan, nan, nan],\n        [nan, nan, nan, nan, nan, nan]],\n\n       [[nan, nan, nan, nan, nan, nan],\n        [nan, nan, nan, nan, nan, nan],\n        [nan, nan, nan, nan, nan, nan]],\n\n       [[nan, nan, nan, nan, nan, nan],\n        [nan, nan, nan, nan, nan, nan],\n        [nan, nan, nan, nan, nan, nan]],\n\n       [[nan, nan, nan, nan, nan, nan],\n        [nan, nan, nan, nan, nan, nan],\n        [nan, nan, nan, nan, nan, nan]],\n\n       [[nan, nan, nan, nan, nan, nan],\n        [nan, nan, nan, nan, nan, nan],\n        [nan, nan, nan, nan, nan, nan]],\n\n       [[nan, nan, nan, nan, nan, nan],\n        [nan, nan, nan, nan, nan, nan],\n        [nan, nan, nan, nan, nan, nan]],\n\n       [[nan, nan, nan, nan, nan, nan],\n        [nan, nan, nan, nan, nan, nan],\n        [nan, nan, nan, nan, nan, nan]],\n\n       [[nan, nan, nan, nan, nan, nan],\n        [nan, nan, nan, nan, nan, nan],\n        [nan, nan, nan, nan, nan, nan]],\n\n       [[nan, nan, nan, nan, nan, nan],\n        [nan, nan, nan, nan, nan, nan],\n        [nan, nan, nan, nan, nan, nan]],\n\n       [[nan, nan, nan, nan, nan, nan],\n        [nan, nan, nan, nan, nan, nan],\n        [nan, nan, nan, nan, nan, nan]],\n\n       [[nan, nan, nan, nan, nan, nan],\n        [nan, nan, nan, nan, nan, nan],\n        [nan, nan, nan, nan, nan, nan]],\n\n       [[nan, nan, nan, nan, nan, nan],\n        [nan, nan, nan, nan, nan, nan],\n        [nan, nan, nan, nan, nan, nan]],\n\n       [[nan, nan, nan, nan, nan, nan],\n        [nan, nan, nan, nan, nan, nan],\n        [nan, nan, nan, nan, nan, nan]],\n\n       [[nan, nan, nan, nan, nan, nan],\n        [nan, nan, nan, nan, nan, nan],\n        [nan, nan, nan, nan, nan, nan]],\n\n       [[nan, nan, nan, nan, nan, nan],\n        [nan, nan, nan, nan, nan, nan],\n        [nan, nan, nan, nan, nan, nan]],\n\n       [[nan, nan, nan, nan, nan, nan],\n        [nan, nan, nan, nan, nan, nan],\n        [nan, nan, nan, nan, nan, nan]],\n\n       [[nan, nan, nan, nan, nan, nan],\n        [nan, nan, nan, nan, nan, nan],\n        [nan, nan, nan, nan, nan, nan]],\n\n       [[nan, nan, nan, nan, nan, nan],\n        [nan, nan, nan, nan, nan, nan],\n        [nan, nan, nan, nan, nan, nan]],\n\n       [[nan, nan, nan, nan, nan, nan],\n        [nan, nan, nan, nan, nan, nan],\n        [nan, nan, nan, nan, nan, nan]],\n\n       [[nan, nan, nan, nan, nan, nan],\n        [nan, nan, nan, nan, nan, nan],\n        [nan, nan, nan, nan, nan, nan]],\n\n       [[nan, nan, nan, nan, nan, nan],\n        [nan, nan, nan, nan, nan, nan],\n        [nan, nan, nan, nan, nan, nan]],\n\n       [[nan, nan, nan, nan, nan, nan],\n        [nan, nan, nan, nan, nan, nan],\n        [nan, nan, nan, nan, nan, nan]],\n\n       [[nan, nan, nan, nan, nan, nan],\n        [nan, nan, nan, nan, nan, nan],\n        [nan, nan, nan, nan, nan, nan]],\n\n       [[nan, nan, nan, nan, nan, nan],\n        [nan, nan, nan, nan, nan, nan],\n        [nan, nan, nan, nan, nan, nan]],\n\n       [[nan, nan, nan, nan, nan, nan],\n        [nan, nan, nan, nan, nan, nan],\n        [nan, nan, nan, nan, nan, nan]],\n\n       [[nan, nan, nan, nan, nan, nan],\n        [nan, nan, nan, nan, nan, nan],\n        [nan, nan, nan, nan, nan, nan]],\n\n       [[nan, nan, nan, nan, nan, nan],\n        [nan, nan, nan, nan, nan, nan],\n        [nan, nan, nan, nan, nan, nan]],\n\n       [[nan, nan, nan, nan, nan, nan],\n        [nan, nan, nan, nan, nan, nan],\n        [nan, nan, nan, nan, nan, nan]],\n\n       [[nan, nan, nan, nan, nan, nan],\n        [nan, nan, nan, nan, nan, nan],\n        [nan, nan, nan, nan, nan, nan]],\n\n       [[nan, nan, nan, nan, nan, nan],\n        [nan, nan, nan, nan, nan, nan],\n        [nan, nan, nan, nan, nan, nan]],\n\n       [[nan, nan, nan, nan, nan, nan],\n        [nan, nan, nan, nan, nan, nan],\n        [nan, nan, nan, nan, nan, nan]],\n\n       [[nan, nan, nan, nan, nan, nan],\n        [nan, nan, nan, nan, nan, nan],\n        [nan, nan, nan, nan, nan, nan]],\n\n       [[nan, nan, nan, nan, nan, nan],\n        [nan, nan, nan, nan, nan, nan],\n        [nan, nan, nan, nan, nan, nan]],\n\n       [[nan, nan, nan, nan, nan, nan],\n        [nan, nan, nan, nan, nan, nan],\n        [nan, nan, nan, nan, nan, nan]],\n\n       [[nan, nan, nan, nan, nan, nan],\n        [nan, nan, nan, nan, nan, nan],\n        [nan, nan, nan, nan, nan, nan]],\n\n       [[nan, nan, nan, nan, nan, nan],\n        [nan, nan, nan, nan, nan, nan],\n        [nan, nan, nan, nan, nan, nan]]])"
     },
     "execution_count": 7,
     "metadata": {},
     "output_type": "execute_result"
    }
   ],
   "source": [
    "for panel_index, panel in enumerate(panel_locations):\n",
    "    for band_index, band in enumerate(photo):\n",
    "        intensities[:, panel_index, band_index] = interpolate(intensities[:, panel_index, band_index])\n",
    "intensities"
   ],
   "metadata": {
    "collapsed": false,
    "ExecuteTime": {
     "end_time": "2024-08-04T11:22:13.731260Z",
     "start_time": "2024-08-04T11:22:13.716676Z"
    }
   },
   "id": "df3d0dde968a33f2",
   "execution_count": 7
  },
  {
   "cell_type": "code",
   "outputs": [
    {
     "data": {
      "text/plain": "(50, 6)"
     },
     "execution_count": 8,
     "metadata": {},
     "output_type": "execute_result"
    }
   ],
   "source": [],
   "metadata": {
    "collapsed": false,
    "ExecuteTime": {
     "end_time": "2024-08-04T11:24:24.792761Z",
     "start_time": "2024-08-04T11:24:24.786538Z"
    }
   },
   "id": "5403a01a6be01dd1",
   "execution_count": 8
  },
  {
   "cell_type": "code",
   "outputs": [],
   "source": [
    "unconvertable_photos = []\n",
    "for photo_index, orthophoto_path in enumerate(orthophoto_paths):\n",
    "    for band_index, band in enumerate(photo):\n",
    "        intensities_of_panels = intensities[photo_index, :, band_index]\n",
    "        if np.isnan(intensities_of_panels).any():\n",
    "            unconvertable_photos.append((photo_index, band_index))\n",
    "            continue\n",
    "        coeffs = fit(intensities_of_panels, get_band_reflectance(panels, band_index))\n",
    "        convert(orthophoto_path, coeffs)"
   ],
   "metadata": {
    "collapsed": false
   },
   "id": "582ea71a216f197f"
  }
 ],
 "metadata": {
  "kernelspec": {
   "display_name": "Python 3",
   "language": "python",
   "name": "python3"
  },
  "language_info": {
   "codemirror_mode": {
    "name": "ipython",
    "version": 2
   },
   "file_extension": ".py",
   "mimetype": "text/x-python",
   "name": "python",
   "nbconvert_exporter": "python",
   "pygments_lexer": "ipython2",
   "version": "2.7.6"
  }
 },
 "nbformat": 4,
 "nbformat_minor": 5
}
