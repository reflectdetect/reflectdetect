{
 "cells": [
  {
   "cell_type": "code",
   "execution_count": 17,
   "id": "initial_id",
   "metadata": {
    "collapsed": true,
    "ExecuteTime": {
     "end_time": "2024-08-03T13:59:07.199721Z",
     "start_time": "2024-08-03T13:59:07.195598Z"
    }
   },
   "outputs": [],
   "source": [
    "\n",
    "\n",
    "from main import *"
   ]
  },
  {
   "cell_type": "code",
   "outputs": [],
   "source": [
    "panel_properties_file = \"../reflectance_panel_example_data.json\"\n",
    "geopackage_file = \"../data/20240529_uav_multispectral_orthos_20m/20240529_tarps_locations.gpkg\"\n",
    "orthophotos_dir = \"../data/20240529_uav_multispectral_orthos_20m/photos\""
   ],
   "metadata": {
    "collapsed": false,
    "ExecuteTime": {
     "end_time": "2024-08-03T13:59:07.850592Z",
     "start_time": "2024-08-03T13:59:07.846537Z"
    }
   },
   "id": "768d026adb2c8723",
   "execution_count": 18
  },
  {
   "cell_type": "code",
   "outputs": [],
   "source": [
    "panels = load_panel_properties(panel_properties_file)\n",
    "panel_locations = load_panel_locations(geopackage_file)\n",
    "orthophoto_paths = get_orthophoto_paths(orthophotos_dir)\n",
    "with rasterio.open(orthophoto_paths[0]) as orthophoto:\n",
    "        number_of_bands = len(orthophoto.read())\n",
    "assert len(panels) == len(panel_locations)"
   ],
   "metadata": {
    "collapsed": false,
    "ExecuteTime": {
     "end_time": "2024-08-03T14:06:15.320555Z",
     "start_time": "2024-08-03T14:06:15.114965Z"
    }
   },
   "id": "7a3b6ed12a6d5c60",
   "execution_count": 28
  },
  {
   "cell_type": "markdown",
   "source": [
    "# 1. For each image extract each panel intensities for each band"
   ],
   "metadata": {
    "collapsed": false
   },
   "id": "9342051fdaa5bcac"
  },
  {
   "cell_type": "code",
   "outputs": [
    {
     "data": {
      "text/plain": "(50, 3, 6)"
     },
     "execution_count": 31,
     "metadata": {},
     "output_type": "execute_result"
    }
   ],
   "source": [
    "intensities = np.zeros((len(orthophoto_paths), len(panel_locations), number_of_bands))\n",
    "intensities.shape"
   ],
   "metadata": {
    "collapsed": false,
    "ExecuteTime": {
     "end_time": "2024-08-03T14:06:29.290095Z",
     "start_time": "2024-08-03T14:06:29.283441Z"
    }
   },
   "id": "5aeb534b6ef137bb",
   "execution_count": 31
  },
  {
   "cell_type": "code",
   "outputs": [],
   "source": [
    "orthophoto_paths = list(sorted(orthophoto_paths))"
   ],
   "metadata": {
    "collapsed": false,
    "ExecuteTime": {
     "end_time": "2024-08-03T14:06:32.028448Z",
     "start_time": "2024-08-03T14:06:32.022284Z"
    }
   },
   "id": "a9b89996cfa18b6a",
   "execution_count": 32
  },
  {
   "cell_type": "code",
   "outputs": [],
   "source": [
    "# Extract intensities\n",
    "for photo_index, orthophoto_path in enumerate(orthophoto_paths):\n",
    "    with rasterio.open(orthophoto_path) as orthophoto:\n",
    "        photo = orthophoto.read()\n",
    "    for panel_index, panel in enumerate(panel_locations):\n",
    "        if not is_panel_in_orthophoto(orthophoto_path, panel):\n",
    "            intensities[photo_index][panel_index] = np.full(len(photo), None)\n",
    "            continue\n",
    "        for band_index, band in enumerate(photo):\n",
    "            panel_intensity = extract(band, panel)\n",
    "            print(panel_intensity)\n",
    "            intensities[orthophoto_path][panel_index][band_index] = panel_intensity"
   ],
   "metadata": {
    "collapsed": false,
    "ExecuteTime": {
     "end_time": "2024-08-03T14:07:20.571428Z",
     "start_time": "2024-08-03T14:07:13.054832Z"
    }
   },
   "id": "c38c6efc8b1ef5bf",
   "execution_count": 35
  },
  {
   "cell_type": "code",
   "outputs": [
    {
     "data": {
      "text/plain": "array([[[nan, nan, nan, nan, nan, nan],\n        [nan, nan, nan, nan, nan, nan],\n        [nan, nan, nan, nan, nan, nan]],\n\n       [[nan, nan, nan, nan, nan, nan],\n        [nan, nan, nan, nan, nan, nan],\n        [nan, nan, nan, nan, nan, nan]],\n\n       [[nan, nan, nan, nan, nan, nan],\n        [nan, nan, nan, nan, nan, nan],\n        [nan, nan, nan, nan, nan, nan]],\n\n       [[nan, nan, nan, nan, nan, nan],\n        [nan, nan, nan, nan, nan, nan],\n        [nan, nan, nan, nan, nan, nan]],\n\n       [[nan, nan, nan, nan, nan, nan],\n        [nan, nan, nan, nan, nan, nan],\n        [nan, nan, nan, nan, nan, nan]],\n\n       [[nan, nan, nan, nan, nan, nan],\n        [nan, nan, nan, nan, nan, nan],\n        [nan, nan, nan, nan, nan, nan]],\n\n       [[nan, nan, nan, nan, nan, nan],\n        [nan, nan, nan, nan, nan, nan],\n        [nan, nan, nan, nan, nan, nan]],\n\n       [[nan, nan, nan, nan, nan, nan],\n        [nan, nan, nan, nan, nan, nan],\n        [nan, nan, nan, nan, nan, nan]],\n\n       [[nan, nan, nan, nan, nan, nan],\n        [nan, nan, nan, nan, nan, nan],\n        [nan, nan, nan, nan, nan, nan]],\n\n       [[nan, nan, nan, nan, nan, nan],\n        [nan, nan, nan, nan, nan, nan],\n        [nan, nan, nan, nan, nan, nan]],\n\n       [[nan, nan, nan, nan, nan, nan],\n        [nan, nan, nan, nan, nan, nan],\n        [nan, nan, nan, nan, nan, nan]],\n\n       [[nan, nan, nan, nan, nan, nan],\n        [nan, nan, nan, nan, nan, nan],\n        [nan, nan, nan, nan, nan, nan]],\n\n       [[nan, nan, nan, nan, nan, nan],\n        [nan, nan, nan, nan, nan, nan],\n        [nan, nan, nan, nan, nan, nan]],\n\n       [[nan, nan, nan, nan, nan, nan],\n        [nan, nan, nan, nan, nan, nan],\n        [nan, nan, nan, nan, nan, nan]],\n\n       [[nan, nan, nan, nan, nan, nan],\n        [nan, nan, nan, nan, nan, nan],\n        [nan, nan, nan, nan, nan, nan]],\n\n       [[nan, nan, nan, nan, nan, nan],\n        [nan, nan, nan, nan, nan, nan],\n        [nan, nan, nan, nan, nan, nan]],\n\n       [[nan, nan, nan, nan, nan, nan],\n        [nan, nan, nan, nan, nan, nan],\n        [nan, nan, nan, nan, nan, nan]],\n\n       [[nan, nan, nan, nan, nan, nan],\n        [nan, nan, nan, nan, nan, nan],\n        [nan, nan, nan, nan, nan, nan]],\n\n       [[nan, nan, nan, nan, nan, nan],\n        [nan, nan, nan, nan, nan, nan],\n        [nan, nan, nan, nan, nan, nan]],\n\n       [[nan, nan, nan, nan, nan, nan],\n        [nan, nan, nan, nan, nan, nan],\n        [nan, nan, nan, nan, nan, nan]],\n\n       [[nan, nan, nan, nan, nan, nan],\n        [nan, nan, nan, nan, nan, nan],\n        [nan, nan, nan, nan, nan, nan]],\n\n       [[nan, nan, nan, nan, nan, nan],\n        [nan, nan, nan, nan, nan, nan],\n        [nan, nan, nan, nan, nan, nan]],\n\n       [[nan, nan, nan, nan, nan, nan],\n        [nan, nan, nan, nan, nan, nan],\n        [nan, nan, nan, nan, nan, nan]],\n\n       [[nan, nan, nan, nan, nan, nan],\n        [nan, nan, nan, nan, nan, nan],\n        [nan, nan, nan, nan, nan, nan]],\n\n       [[nan, nan, nan, nan, nan, nan],\n        [nan, nan, nan, nan, nan, nan],\n        [nan, nan, nan, nan, nan, nan]],\n\n       [[nan, nan, nan, nan, nan, nan],\n        [nan, nan, nan, nan, nan, nan],\n        [nan, nan, nan, nan, nan, nan]],\n\n       [[nan, nan, nan, nan, nan, nan],\n        [nan, nan, nan, nan, nan, nan],\n        [nan, nan, nan, nan, nan, nan]],\n\n       [[nan, nan, nan, nan, nan, nan],\n        [nan, nan, nan, nan, nan, nan],\n        [nan, nan, nan, nan, nan, nan]],\n\n       [[nan, nan, nan, nan, nan, nan],\n        [nan, nan, nan, nan, nan, nan],\n        [nan, nan, nan, nan, nan, nan]],\n\n       [[nan, nan, nan, nan, nan, nan],\n        [nan, nan, nan, nan, nan, nan],\n        [nan, nan, nan, nan, nan, nan]],\n\n       [[nan, nan, nan, nan, nan, nan],\n        [nan, nan, nan, nan, nan, nan],\n        [nan, nan, nan, nan, nan, nan]],\n\n       [[nan, nan, nan, nan, nan, nan],\n        [nan, nan, nan, nan, nan, nan],\n        [nan, nan, nan, nan, nan, nan]],\n\n       [[nan, nan, nan, nan, nan, nan],\n        [nan, nan, nan, nan, nan, nan],\n        [nan, nan, nan, nan, nan, nan]],\n\n       [[nan, nan, nan, nan, nan, nan],\n        [nan, nan, nan, nan, nan, nan],\n        [nan, nan, nan, nan, nan, nan]],\n\n       [[nan, nan, nan, nan, nan, nan],\n        [nan, nan, nan, nan, nan, nan],\n        [nan, nan, nan, nan, nan, nan]],\n\n       [[nan, nan, nan, nan, nan, nan],\n        [nan, nan, nan, nan, nan, nan],\n        [nan, nan, nan, nan, nan, nan]],\n\n       [[nan, nan, nan, nan, nan, nan],\n        [nan, nan, nan, nan, nan, nan],\n        [nan, nan, nan, nan, nan, nan]],\n\n       [[nan, nan, nan, nan, nan, nan],\n        [nan, nan, nan, nan, nan, nan],\n        [nan, nan, nan, nan, nan, nan]],\n\n       [[nan, nan, nan, nan, nan, nan],\n        [nan, nan, nan, nan, nan, nan],\n        [nan, nan, nan, nan, nan, nan]],\n\n       [[nan, nan, nan, nan, nan, nan],\n        [nan, nan, nan, nan, nan, nan],\n        [nan, nan, nan, nan, nan, nan]],\n\n       [[nan, nan, nan, nan, nan, nan],\n        [nan, nan, nan, nan, nan, nan],\n        [nan, nan, nan, nan, nan, nan]],\n\n       [[nan, nan, nan, nan, nan, nan],\n        [nan, nan, nan, nan, nan, nan],\n        [nan, nan, nan, nan, nan, nan]],\n\n       [[nan, nan, nan, nan, nan, nan],\n        [nan, nan, nan, nan, nan, nan],\n        [nan, nan, nan, nan, nan, nan]],\n\n       [[nan, nan, nan, nan, nan, nan],\n        [nan, nan, nan, nan, nan, nan],\n        [nan, nan, nan, nan, nan, nan]],\n\n       [[nan, nan, nan, nan, nan, nan],\n        [nan, nan, nan, nan, nan, nan],\n        [nan, nan, nan, nan, nan, nan]],\n\n       [[nan, nan, nan, nan, nan, nan],\n        [nan, nan, nan, nan, nan, nan],\n        [nan, nan, nan, nan, nan, nan]],\n\n       [[nan, nan, nan, nan, nan, nan],\n        [nan, nan, nan, nan, nan, nan],\n        [nan, nan, nan, nan, nan, nan]],\n\n       [[nan, nan, nan, nan, nan, nan],\n        [nan, nan, nan, nan, nan, nan],\n        [nan, nan, nan, nan, nan, nan]],\n\n       [[nan, nan, nan, nan, nan, nan],\n        [nan, nan, nan, nan, nan, nan],\n        [nan, nan, nan, nan, nan, nan]],\n\n       [[nan, nan, nan, nan, nan, nan],\n        [nan, nan, nan, nan, nan, nan],\n        [nan, nan, nan, nan, nan, nan]]])"
     },
     "execution_count": 36,
     "metadata": {},
     "output_type": "execute_result"
    }
   ],
   "source": [
    "intensities"
   ],
   "metadata": {
    "collapsed": false,
    "ExecuteTime": {
     "end_time": "2024-08-03T14:07:43.406497Z",
     "start_time": "2024-08-03T14:07:43.389398Z"
    }
   },
   "id": "aafae2fc2ae4a603",
   "execution_count": 36
  },
  {
   "cell_type": "code",
   "outputs": [],
   "source": [
    "intensities = interpolate(intensities)\n",
    "for file, intensities_per_band in intensities.items():\n",
    "    coeffs = fit(intensities_per_band, get_band_reflectance(panels, ))\n",
    "    convert(file, coeffs)"
   ],
   "metadata": {
    "collapsed": false
   },
   "id": "582ea71a216f197f"
  }
 ],
 "metadata": {
  "kernelspec": {
   "display_name": "Python 3",
   "language": "python",
   "name": "python3"
  },
  "language_info": {
   "codemirror_mode": {
    "name": "ipython",
    "version": 2
   },
   "file_extension": ".py",
   "mimetype": "text/x-python",
   "name": "python",
   "nbconvert_exporter": "python",
   "pygments_lexer": "ipython2",
   "version": "2.7.6"
  }
 },
 "nbformat": 4,
 "nbformat_minor": 5
}
