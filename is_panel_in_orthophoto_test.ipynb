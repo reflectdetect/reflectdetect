{
 "cells": [
  {
   "cell_type": "code",
   "outputs": [],
   "source": [
    "\n",
    "from pathlib import Path\n",
    "import rasterio.mask"
   ],
   "metadata": {
    "collapsed": false,
    "ExecuteTime": {
     "end_time": "2024-09-05T13:33:11.720448Z",
     "start_time": "2024-09-05T13:33:11.406906Z"
    }
   },
   "id": "f52fc0dd9c99a72e",
   "execution_count": 1
  },
  {
   "cell_type": "code",
   "outputs": [
    {
     "name": "stderr",
     "output_type": "stream",
     "text": [
      "C:\\Users\\ninja\\miniconda3\\envs\\reflectdetect-test\\lib\\site-packages\\pyogrio\\raw.py:196: RuntimeWarning: GPKG: bad application_id=0x00000000 on 'data\\20240529_uav_multispectral_orthos_20m\\panel_locations.gpkg'\n",
      "  return ogr_read(\n",
      "C:\\Users\\ninja\\miniconda3\\envs\\reflectdetect-test\\lib\\site-packages\\pyogrio\\raw.py:196: RuntimeWarning: GPKG: bad application_id=0x00000000 on 'data\\20240529_uav_multispectral_orthos_20m\\panel_locations.gpkg'\n",
      "  return ogr_read(\n",
      "C:\\Users\\ninja\\miniconda3\\envs\\reflectdetect-test\\lib\\site-packages\\pyogrio\\raw.py:196: RuntimeWarning: GPKG: bad application_id=0x00000000 on 'data\\20240529_uav_multispectral_orthos_20m\\panel_locations.gpkg'\n",
      "  return ogr_read(\n"
     ]
    },
    {
     "data": {
      "text/plain": "[('corner1blk',\n                                     UUID   FID _description   latitude  \\\n  0  482be66a-f26f-49ff-a2b3-7a9143a105ee     1               51.564821   \n  1  2f9a4bcc-8c30-4f5e-bbe7-35d58a30a55a     2               51.564812   \n  2                                  None  None         None        NaN   \n  3                                  None  None         None        NaN   \n  \n     longitude  elevation  ortho_ht                          time  fix_id  \\\n  0   9.917781     187.38       0.0  27-05-2024 11:14:10.000 MESZ     4.0   \n  1   9.917758     187.40       0.0  27-05-2024 11:14:34.000 MESZ     4.0   \n  2        NaN        NaN       NaN                          None     NaN   \n  3        NaN        NaN       NaN                          None     NaN   \n  \n     h_accuracy  v_accuracy  speed  bearing                           geometry  \n  0        0.01        0.01  0.011      0.0  POINT Z (9.91778 51.56482 187.38)  \n  1        0.01        0.01  0.008      0.0   POINT Z (9.91776 51.56481 187.4)  \n  2         NaN         NaN    NaN      NaN       POINT Z (9.91776 51.56482 0)  \n  3         NaN         NaN    NaN      NaN       POINT Z (9.91778 51.56481 0)  ),\n ('corner24',\n                                     UUID   FID _description   latitude  \\\n  0  668a11b3-3c57-4def-9e4e-d01c72d4e524     5               51.564797   \n  1  4a549ab4-a7b6-4a7c-b474-f8ec2671696e     6               51.564788   \n  2                                  None  None         None        NaN   \n  3                                  None  None         None        NaN   \n  \n     longitude  elevation  ortho_ht                          time  fix_id  \\\n  0   9.917774    187.397       0.0  27-05-2024 11:16:05.000 MESZ     4.0   \n  1   9.917750    187.375       0.0  27-05-2024 11:16:21.000 MESZ     4.0   \n  2        NaN        NaN       NaN                          None     NaN   \n  3        NaN        NaN       NaN                          None     NaN   \n  \n     h_accuracy  v_accuracy  speed  bearing                            geometry  \n  0        0.01        0.01  0.018      0.0   POINT Z (9.91777 51.5648 187.397)  \n  1        0.01        0.01  0.008      0.0  POINT Z (9.91775 51.56479 187.375)  \n  2         NaN         NaN    NaN      NaN         POINT Z (9.91775 51.5648 0)  \n  3         NaN         NaN    NaN      NaN        POINT Z (9.91777 51.56479 0)  ),\n ('corner56',\n                                     UUID   FID _description   latitude  \\\n  0  7035be9a-555f-4519-ab4b-307fd06761c6     3               51.564809   \n  1  bbeea492-5148-484b-b208-deaa1a35ef35     4               51.564800   \n  2                                  None  None         None        NaN   \n  3                                  None  None         None        NaN   \n  \n     longitude  elevation  ortho_ht                          time  fix_id  \\\n  0   9.917777    187.366       0.0  27-05-2024 11:15:14.000 MESZ     4.0   \n  1   9.917754    187.387       0.0  27-05-2024 11:15:31.000 MESZ     4.0   \n  2        NaN        NaN       NaN                          None     NaN   \n  3        NaN        NaN       NaN                          None     NaN   \n  \n     h_accuracy  v_accuracy  speed  bearing                            geometry  \n  0        0.01        0.01  0.005      0.0  POINT Z (9.91778 51.56481 187.366)  \n  1        0.01        0.01  0.001      0.0   POINT Z (9.91775 51.5648 187.387)  \n  2         NaN         NaN    NaN      NaN        POINT Z (9.91776 51.56481 0)  \n  3         NaN         NaN    NaN      NaN         POINT Z (9.91777 51.5648 0)  )]"
     },
     "execution_count": 2,
     "metadata": {},
     "output_type": "execute_result"
    }
   ],
   "source": [
    "from reflectdetect.utils.orthophoto import load_panel_locations\n",
    "\n",
    "path_all_false = \"data/20240529_uav_multispectral_orthos_20m/orthophotos/IMG_0232_1.tif\"\n",
    "path_all_true = \"data/20240529_uav_multispectral_orthos_20m/orthophotos/IMG_0104_1.tif\"\n",
    "panel_locations = load_panel_locations(Path(\"data/20240529_uav_multispectral_orthos_20m\"), None)\n",
    "\n",
    "panel_locations"
   ],
   "metadata": {
    "collapsed": false,
    "ExecuteTime": {
     "end_time": "2024-09-05T13:33:30.960126Z",
     "start_time": "2024-09-05T13:33:28.628348Z"
    }
   },
   "id": "a0ed83a86e5e5a9c",
   "execution_count": 2
  },
  {
   "cell_type": "code",
   "outputs": [],
   "source": [
    "import matplotlib\n",
    "\n",
    "matplotlib.use('Tkagg')"
   ],
   "metadata": {
    "collapsed": false,
    "ExecuteTime": {
     "end_time": "2024-09-05T13:36:33.070802Z",
     "start_time": "2024-09-05T13:36:33.059562Z"
    }
   },
   "id": "4baadaee5c6069ff",
   "execution_count": 16
  },
  {
   "cell_type": "code",
   "outputs": [],
   "source": [
    "from rasterio.coords import BoundingBox\n",
    "from shapely import Polygon\n",
    "import numpy as np\n",
    "import rasterio.plot\n",
    "import matplotlib.pyplot as plt\n",
    "\n",
    "for layer_name, location in panel_locations:\n",
    "    panel = location\n",
    "    if panel.empty:\n",
    "        raise Exception(\"Invalid panel location, no corner points included\")\n",
    "    with rasterio.open(path_all_true) as orthophoto:\n",
    "        bounds = BoundingBox(*orthophoto.bounds)\n",
    "        panel_polygon = panel.union_all().convex_hull\n",
    "        out_image, out_transform = rasterio.mask.mask(\n",
    "            orthophoto, [panel_polygon], crop=True,\n",
    "        )\n",
    "        orthophoto_polygon = Polygon(\n",
    "            [\n",
    "                (bounds.left, bounds.bottom),\n",
    "                (bounds.left, bounds.top),\n",
    "                (bounds.right, bounds.top),\n",
    "                (bounds.right, bounds.bottom),\n",
    "            ]\n",
    "        )\n",
    "        for band in out_image:\n",
    "            rasterio.plot.show(band)\n",
    "\n",
    "        has_no_invalid_values = not np.any(out_image == 65535)\n",
    "\n",
    "    # Check if all corner points of the panel are within the orthophoto bounds\n",
    "    bool(panel.within(orthophoto_polygon).all()) and has_no_invalid_values\n",
    "plt.show()"
   ],
   "metadata": {
    "collapsed": false,
    "ExecuteTime": {
     "end_time": "2024-09-05T13:37:41.434955Z",
     "start_time": "2024-09-05T13:36:34.441974Z"
    }
   },
   "id": "129a8f60d7d82862",
   "execution_count": 17
  }
 ],
 "metadata": {
  "kernelspec": {
   "display_name": "Python 3",
   "language": "python",
   "name": "python3"
  },
  "language_info": {
   "codemirror_mode": {
    "name": "ipython",
    "version": 2
   },
   "file_extension": ".py",
   "mimetype": "text/x-python",
   "name": "python",
   "nbconvert_exporter": "python",
   "pygments_lexer": "ipython2",
   "version": "2.7.6"
  }
 },
 "nbformat": 4,
 "nbformat_minor": 5
}
